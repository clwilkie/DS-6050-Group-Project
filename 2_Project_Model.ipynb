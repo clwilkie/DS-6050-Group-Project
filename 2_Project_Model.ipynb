{
 "cells": [
  {
   "cell_type": "code",
   "execution_count": 1,
   "id": "00ec2da1-165a-4c76-ae05-65fd022e9704",
   "metadata": {},
   "outputs": [
    {
     "name": "stderr",
     "output_type": "stream",
     "text": [
      "2024-11-26 12:08:50.449573: I tensorflow/core/platform/cpu_feature_guard.cc:210] This TensorFlow binary is optimized to use available CPU instructions in performance-critical operations.\n",
      "To enable the following instructions: AVX2 FMA, in other operations, rebuild TensorFlow with the appropriate compiler flags.\n",
      "[nltk_data] Downloading package reuters to\n",
      "[nltk_data]     /Users/colinwilkie/nltk_data...\n",
      "[nltk_data]   Package reuters is already up-to-date!\n",
      "[nltk_data] Downloading package stopwords to\n",
      "[nltk_data]     /Users/colinwilkie/nltk_data...\n",
      "[nltk_data]   Package stopwords is already up-to-date!\n"
     ]
    },
    {
     "name": "stdout",
     "output_type": "stream",
     "text": [
      "Number of multi-label articles: 1628\n",
      "Vocabulary size: 7729\n",
      "Preprocessing complete. Data saved.\n"
     ]
    },
    {
     "name": "stderr",
     "output_type": "stream",
     "text": [
      "/var/folders/yh/l_t10td97zbcx6stbhn0_w_00000gn/T/ipykernel_22439/2550981447.py:60: SettingWithCopyWarning: \n",
      "A value is trying to be set on a copy of a slice from a DataFrame.\n",
      "Try using .loc[row_indexer,col_indexer] = value instead\n",
      "\n",
      "See the caveats in the documentation: https://pandas.pydata.org/pandas-docs/stable/user_guide/indexing.html#returning-a-view-versus-a-copy\n",
      "  multi_label_data.loc[:, 'tokens'] = multi_label_data['text'].apply(self.tokenizer.tokenize)\n"
     ]
    }
   ],
   "source": [
    "import nltk\n",
    "import pandas as pd\n",
    "import numpy as np\n",
    "import re\n",
    "import string\n",
    "from nltk.corpus import reuters, stopwords\n",
    "from nltk.stem import PorterStemmer\n",
    "from tensorflow.keras.utils import pad_sequences\n",
    "from sklearn.preprocessing import MultiLabelBinarizer\n",
    "import json\n",
    "\n",
    "# Download NLTK resources\n",
    "nltk.download('reuters')\n",
    "nltk.download('stopwords')\n",
    "\n",
    "class UnifiedTokenizer:\n",
    "    def __init__(self, stop_words, min_length=4, use_stemming=False):\n",
    "        self.stop_words = stop_words\n",
    "        self.min_length = min_length\n",
    "        self.use_stemming = use_stemming\n",
    "        self.stemmer = PorterStemmer() if use_stemming else None\n",
    "\n",
    "    def tokenize(self, text):\n",
    "        text = text.lower()  # Lowercase\n",
    "        text = re.sub(f'[{re.escape(string.punctuation)}]', ' ', text)  # Remove punctuation\n",
    "        text = re.sub(r'\\d+', '', text)  # Remove numbers\n",
    "        tokens = text.split()  # Split into tokens\n",
    "        tokens = [\n",
    "            self.stemmer.stem(word) if self.use_stemming else word\n",
    "            for word in tokens\n",
    "            if word not in self.stop_words and len(word) >= self.min_length\n",
    "        ]\n",
    "        return tokens\n",
    "\n",
    "class ReutersPreprocessor:\n",
    "    def __init__(self, tokenizer, max_features=10000, max_sequence_length=500):\n",
    "        self.tokenizer = tokenizer\n",
    "        self.max_features = max_features\n",
    "        self.max_sequence_length = max_sequence_length\n",
    "        self.vocabulary = {}\n",
    "\n",
    "    def _build_vocabulary(self, texts):\n",
    "        word_counts = {}\n",
    "        for tokens in texts:\n",
    "            for token in tokens:\n",
    "                word_counts[token] = word_counts.get(token, 0) + 1\n",
    "        sorted_vocab = sorted(word_counts.items(), key=lambda x: x[1], reverse=True)\n",
    "        self.vocabulary = {word: idx + 1 for idx, (word, _) in enumerate(sorted_vocab[:self.max_features])}\n",
    "        print(f\"Vocabulary size: {len(self.vocabulary)}\")\n",
    "\n",
    "    def preprocess(self):\n",
    "        documents = reuters.fileids()\n",
    "        texts = [reuters.raw(doc_id) for doc_id in documents]\n",
    "        labels = [reuters.categories(doc_id) for doc_id in documents]\n",
    "\n",
    "        data = pd.DataFrame({'document_id': documents, 'text': texts, 'labels': labels})\n",
    "        multi_label_data = data[data['labels'].apply(len) > 1]\n",
    "        print(f\"Number of multi-label articles: {len(multi_label_data)}\")\n",
    "\n",
    "        multi_label_data.loc[:, 'tokens'] = multi_label_data['text'].apply(self.tokenizer.tokenize)\n",
    "        self._build_vocabulary(multi_label_data['tokens'])\n",
    "\n",
    "        sequences = multi_label_data['tokens'].apply(lambda x: [self.vocabulary.get(token, 0) for token in x])\n",
    "        X = pad_sequences(sequences.tolist(), maxlen=self.max_sequence_length, padding='post')\n",
    "\n",
    "        mlb = MultiLabelBinarizer()\n",
    "        y = mlb.fit_transform(multi_label_data['labels'])\n",
    "\n",
    "        # Save tokenized texts, vocabulary, and labels\n",
    "        with open(\"tokenized_texts.json\", \"w\") as f:\n",
    "            json.dump(multi_label_data['tokens'].tolist(), f)\n",
    "        np.save(\"X.npy\", X)\n",
    "        np.save(\"y.npy\", y)\n",
    "        np.save(\"vocabulary.npy\", self.vocabulary)\n",
    "        np.save(\"class_labels.npy\", mlb.classes_)\n",
    "\n",
    "        print(\"Preprocessing complete. Data saved.\")\n",
    "        return X, y, self.vocabulary, mlb.classes_\n",
    "\n",
    "# Initialize tokenizer and preprocessor\n",
    "if __name__ == \"__main__\":\n",
    "    stop_words = set(stopwords.words('english')) | {\"reuters\", \"news\"}\n",
    "    tokenizer = UnifiedTokenizer(stop_words=stop_words, min_length=4, use_stemming=True)\n",
    "    preprocessor = ReutersPreprocessor(tokenizer=tokenizer)\n",
    "    X, y, vocabulary, class_labels = preprocessor.preprocess()"
   ]
  },
  {
   "cell_type": "code",
   "execution_count": 2,
   "id": "ed5bd26d-0240-422a-aeee-46a8a300df25",
   "metadata": {},
   "outputs": [
    {
     "name": "stdout",
     "output_type": "stream",
     "text": [
      "Domain-specific labels added.\n"
     ]
    }
   ],
   "source": [
    "# Reload tokenized texts\n",
    "with open(\"tokenized_texts.json\", \"r\") as f:\n",
    "    tokenized_texts = json.load(f)\n",
    "\n",
    "# Reload original labels\n",
    "original_labels = np.load(\"y.npy\", allow_pickle=True)\n",
    "\n",
    "# Define domain-specific keywords\n",
    "domain_keywords = {\n",
    "    # Agriculture-related categories\n",
    "    \"agriculture\": [\n",
    "        \"wheat\", \"corn\", \"grain\", \"soybean\", \"crop\", \"harvest\", \"farming\", \"rice\", \"barley\",\n",
    "        \"sorghum\", \"cotton\", \"plantation\", \"livestock\", \"oilseed\"\n",
    "    ],\n",
    "    \n",
    "    # Energy-related categories\n",
    "    \"energy\": [\n",
    "        \"oil\", \"gas\", \"fuel\", \"crude\", \"barrel\", \"bpd\", \"petroleum\", \"energy\", \"prices\", \n",
    "        \"production\", \"reserves\"\n",
    "    ],\n",
    "    \n",
    "    # Finance-related categories\n",
    "    \"finance\": [\n",
    "        \"market\", \"stock\", \"shares\", \"investment\", \"economy\", \"profit\", \"trade\", \"money\",\n",
    "        \"currency\", \"rates\"\n",
    "    ],\n",
    "    \n",
    "    # Commodities and metals\n",
    "    \"commodities\": [\n",
    "        \"gold\", \"silver\", \"copper\", \"tin\", \"aluminium\", \"zinc\", \"platinum\", \"nickel\", \n",
    "        \"palladium\", \"strategic-metal\"\n",
    "    ],\n",
    "    \n",
    "    # Trade-related categories\n",
    "    \"trade\": [\n",
    "        \"exports\", \"imports\", \"tariff\", \"agreement\", \"deficit\", \"surplus\", \"shipment\", \n",
    "        \"commerce\", \"international\", \"global\"\n",
    "    ],\n",
    "    \n",
    "    # Other categories\n",
    "    \"livestock\": [\"beef\", \"pork\", \"cattle\", \"hog\", \"meat\", \"slaughter\"],\n",
    "    \"retail\": [\"retail\", \"sales\", \"growth\", \"consumer\", \"earnings\", \"income\"],\n",
    "    \"environment\": [\"climate\", \"carbon\", \"sustainability\", \"pollution\", \"green\", \"renewable\"],\n",
    "}\n",
    "\n",
    "# Add domain-specific labels\n",
    "def add_domain_labels(tokenized_texts, domain_keywords):\n",
    "    updated_labels = []\n",
    "    for tokens in tokenized_texts:\n",
    "        labels = []\n",
    "        for label, keywords in domain_keywords.items():\n",
    "            if any(keyword in tokens for keyword in keywords):\n",
    "                labels.append(label)\n",
    "        updated_labels.append(labels)\n",
    "    return updated_labels\n",
    "\n",
    "updated_labels = add_domain_labels(tokenized_texts, domain_keywords)\n",
    "print(\"Domain-specific labels added.\")"
   ]
  },
  {
   "cell_type": "code",
   "execution_count": 3,
   "id": "b076cef5-56ee-478b-a470-31b975cd8d23",
   "metadata": {},
   "outputs": [
    {
     "name": "stdout",
     "output_type": "stream",
     "text": [
      "Combined labels saved as JSON.\n"
     ]
    }
   ],
   "source": [
    "# Combine original and domain-specific labels\n",
    "combined_labels = [\n",
    "    list(set(orig_labels + new_labels))  # Combine and remove duplicates\n",
    "    for orig_labels, new_labels in zip(original_labels.tolist(), updated_labels)\n",
    "]\n",
    "\n",
    "# Save combined labels as JSON\n",
    "with open(\"combined_labels.json\", \"w\") as f:\n",
    "    json.dump(combined_labels, f)\n",
    "\n",
    "print(\"Combined labels saved as JSON.\")"
   ]
  },
  {
   "cell_type": "code",
   "execution_count": 4,
   "id": "d30cfa7e-070e-47b7-81a7-a1c1321d785a",
   "metadata": {},
   "outputs": [
    {
     "name": "stdout",
     "output_type": "stream",
     "text": [
      "Loaded 1628 combined labels.\n"
     ]
    }
   ],
   "source": [
    "# Reload combined labels\n",
    "with open(\"combined_labels.json\", \"r\") as f:\n",
    "    combined_labels = json.load(f)\n",
    "\n",
    "print(f\"Loaded {len(combined_labels)} combined labels.\")"
   ]
  },
  {
   "cell_type": "code",
   "execution_count": 5,
   "id": "14c08a5a-7ebf-4bda-bacc-5e1871f9dac8",
   "metadata": {},
   "outputs": [
    {
     "name": "stdout",
     "output_type": "stream",
     "text": [
      "Text 1 Tokens: ['japan', 'revis', 'long', 'term', 'energi', 'demand', 'downward', 'ministri', 'intern', 'trade']...\n",
      "Original Labels: [0 0 0 0 0 0 0 0 0 0 0 0 0 0 0 0 1 0 0 0 0 0 0 0 0 0 0 0 0 0 0 0 0 0 0 0 0\n",
      " 0 0 0 0 0 0 0 0 0 0 1 0 0 0 0 0 0 0 0 0 0 0 0 0 0 0 0 0 0 0 0 0 0 0 0 0 0\n",
      " 0 0 0 0 0 0 0 0 0 0 0 0 0 0]\n",
      "Combined Labels: [0, 1, 'finance']\n",
      "\n",
      "Text 2 Tokens: ['thai', 'trade', 'deficit', 'widen', 'first', 'quarter', 'thailand', 'trade', 'deficit', 'widen']...\n",
      "Original Labels: [0 0 0 0 0 0 0 0 0 0 0 0 1 0 0 0 0 0 0 0 0 0 0 0 0 1 0 0 0 0 0 0 0 0 0 0 0\n",
      " 0 0 0 0 0 0 0 0 0 0 0 0 0 0 0 0 0 0 0 0 0 0 0 0 0 0 0 0 0 1 1 0 0 0 0 0 0\n",
      " 0 0 1 0 0 0 0 1 1 0 0 0 0 0]\n",
      "Combined Labels: [0, 1, 'agriculture', 'retail', 'finance', 'trade']\n",
      "\n",
      "Text 3 Tokens: ['indonesia', 'see', 'price', 'rise', 'sharpli', 'indonesia', 'expect', 'crude', 'palm', 'price']...\n",
      "Original Labels: [0 0 0 0 0 0 0 0 0 0 0 0 0 0 0 0 0 0 0 0 0 0 0 0 0 0 0 0 0 0 0 0 0 0 0 0 0\n",
      " 0 0 0 0 0 0 0 0 0 0 0 0 0 0 0 0 0 0 1 0 0 0 0 0 0 0 0 0 0 0 0 0 0 0 0 0 0\n",
      " 0 0 0 0 0 0 0 0 0 1 0 0 0 0]\n",
      "Combined Labels: [0, 1, 'agriculture', 'energy', 'finance']\n",
      "\n",
      "Text 4 Tokens: ['indonesian', 'commod', 'exchang', 'expand', 'indonesian', 'commod', 'exchang', 'like', 'start', 'trade']...\n",
      "Original Labels: [0 0 0 0 0 0 0 0 0 1 0 0 0 0 0 0 0 0 0 0 0 0 0 0 0 0 0 0 0 0 0 0 0 0 0 0 0\n",
      " 0 0 0 0 0 1 0 0 0 0 0 0 0 0 0 0 0 0 1 0 0 0 0 0 0 0 0 0 0 0 1 0 0 0 0 0 0\n",
      " 0 0 0 0 0 0 0 0 0 1 0 0 0 0]\n",
      "Combined Labels: [0, 1, 'finance', 'energy']\n",
      "\n",
      "Text 5 Tokens: ['lanka', 'get', 'usda', 'approv', 'wheat', 'price', 'food', 'depart', 'offici', 'said']...\n",
      "Original Labels: [0 0 0 0 0 0 0 0 0 0 0 0 0 0 0 0 0 0 0 0 0 0 0 0 0 1 0 0 0 0 0 0 0 0 0 0 0\n",
      " 0 0 0 0 0 0 0 0 0 0 0 0 0 0 0 0 0 0 0 0 0 0 0 0 0 0 0 0 0 0 0 0 0 0 0 0 0\n",
      " 0 0 0 0 0 0 0 0 0 0 1 0 0 0]\n",
      "Combined Labels: [0, 1, 'trade', 'agriculture']\n",
      "\n"
     ]
    }
   ],
   "source": [
    "# Load tokenized texts\n",
    "with open(\"tokenized_texts.json\", \"r\") as file:\n",
    "    tokenized_texts = json.load(file)\n",
    "\n",
    "# Load original labels\n",
    "original_labels = np.load(\"y.npy\", allow_pickle=True)\n",
    "\n",
    "# Load combined labels\n",
    "with open(\"combined_labels.json\", \"r\") as file:\n",
    "    combined_labels = json.load(file)\n",
    "\n",
    "# Display a few examples\n",
    "for i, (tokens, orig_labels, combined) in enumerate(zip(tokenized_texts[:5], original_labels[:5], combined_labels[:5])):\n",
    "    print(f\"Text {i + 1} Tokens: {tokens[:10]}...\")  # Show first 10 tokens for brevity\n",
    "    print(f\"Original Labels: {orig_labels}\")\n",
    "    print(f\"Combined Labels: {combined}\\n\")"
   ]
  },
  {
   "cell_type": "code",
   "execution_count": 6,
   "id": "df6a35e4-2b14-4964-9d0f-b5f9485b7d3e",
   "metadata": {},
   "outputs": [
    {
     "name": "stdout",
     "output_type": "stream",
     "text": [
      "Number of articles with more than one label: 1628\n"
     ]
    }
   ],
   "source": [
    "# Count articles with more than one label\n",
    "multi_label_count = sum(len(labels) > 1 for labels in combined_labels)\n",
    "\n",
    "# Print the result\n",
    "print(f\"Number of articles with more than one label: {multi_label_count}\")"
   ]
  },
  {
   "cell_type": "code",
   "execution_count": 7,
   "id": "5668da28-dcad-41a5-b682-e009d3520682",
   "metadata": {},
   "outputs": [
    {
     "name": "stdout",
     "output_type": "stream",
     "text": [
      "Original Labels: [0 0 0 0 0 0 0 0 0 0 0 0 0 0 0 0 1 0 0 0 0 0 0 0 0 0 0 0 0 0 0 0 0 0 0 0 0\n",
      " 0 0 0 0 0 0 0 0 0 0 1 0 0 0 0 0 0 0 0 0 0 0 0 0 0 0 0 0 0 0 0 0 0 0 0 0 0\n",
      " 0 0 0 0 0 0 0 0 0 0 0 0 0 0]\n",
      "Combined Labels: [0, 1, 'finance']\n",
      "\n",
      "Original Labels: [0 0 0 0 0 0 0 0 0 0 0 0 1 0 0 0 0 0 0 0 0 0 0 0 0 1 0 0 0 0 0 0 0 0 0 0 0\n",
      " 0 0 0 0 0 0 0 0 0 0 0 0 0 0 0 0 0 0 0 0 0 0 0 0 0 0 0 0 0 1 1 0 0 0 0 0 0\n",
      " 0 0 1 0 0 0 0 1 1 0 0 0 0 0]\n",
      "Combined Labels: [0, 1, 'agriculture', 'retail', 'finance', 'trade']\n",
      "\n",
      "Original Labels: [0 0 0 0 0 0 0 0 0 0 0 0 0 0 0 0 0 0 0 0 0 0 0 0 0 0 0 0 0 0 0 0 0 0 0 0 0\n",
      " 0 0 0 0 0 0 0 0 0 0 0 0 0 0 0 0 0 0 1 0 0 0 0 0 0 0 0 0 0 0 0 0 0 0 0 0 0\n",
      " 0 0 0 0 0 0 0 0 0 1 0 0 0 0]\n",
      "Combined Labels: [0, 1, 'agriculture', 'energy', 'finance']\n",
      "\n",
      "Original Labels: [0 0 0 0 0 0 0 0 0 1 0 0 0 0 0 0 0 0 0 0 0 0 0 0 0 0 0 0 0 0 0 0 0 0 0 0 0\n",
      " 0 0 0 0 0 1 0 0 0 0 0 0 0 0 0 0 0 0 1 0 0 0 0 0 0 0 0 0 0 0 1 0 0 0 0 0 0\n",
      " 0 0 0 0 0 0 0 0 0 1 0 0 0 0]\n",
      "Combined Labels: [0, 1, 'finance', 'energy']\n",
      "\n",
      "Original Labels: [0 0 0 0 0 0 0 0 0 0 0 0 0 0 0 0 0 0 0 0 0 0 0 0 0 1 0 0 0 0 0 0 0 0 0 0 0\n",
      " 0 0 0 0 0 0 0 0 0 0 0 0 0 0 0 0 0 0 0 0 0 0 0 0 0 0 0 0 0 0 0 0 0 0 0 0 0\n",
      " 0 0 0 0 0 0 0 0 0 0 1 0 0 0]\n",
      "Combined Labels: [0, 1, 'trade', 'agriculture']\n",
      "\n",
      "Original Labels: [0 0 0 0 0 0 0 0 0 0 0 0 0 0 0 0 0 0 0 0 0 0 0 0 0 0 0 0 0 0 0 0 1 0 0 0 0\n",
      " 0 0 0 0 0 0 0 1 0 0 0 0 0 0 0 0 0 0 0 0 0 0 0 0 0 0 0 0 0 0 0 0 0 0 0 0 0\n",
      " 0 0 0 0 0 0 0 0 0 0 0 0 0 0]\n",
      "Combined Labels: [0, 1, 'finance', 'trade']\n",
      "\n",
      "Original Labels: [1 0 0 0 0 0 0 0 0 0 1 0 0 0 0 0 0 0 0 0 0 0 0 0 0 0 0 0 0 0 0 0 0 0 0 0 0\n",
      " 0 0 0 0 0 0 0 0 0 0 0 0 0 0 0 0 0 0 0 0 0 0 0 0 0 0 0 0 0 0 0 0 0 0 0 0 0\n",
      " 0 0 0 0 0 0 0 0 0 0 0 0 0 0]\n",
      "Combined Labels: [0, 1, 'commodities']\n",
      "\n",
      "Original Labels: [0 0 0 0 1 0 0 0 0 0 0 0 1 0 0 0 0 0 0 0 0 0 0 0 0 1 0 0 0 0 0 0 0 0 0 0 0\n",
      " 0 0 0 0 1 0 0 0 0 0 0 0 0 0 0 1 0 0 0 0 0 0 0 0 0 0 0 0 0 1 0 0 0 0 0 0 0\n",
      " 1 0 0 0 0 0 0 0 1 0 0 0 0 0]\n",
      "Combined Labels: [0, 1, 'agriculture', 'finance', 'livestock', 'trade']\n",
      "\n",
      "Original Labels: [0 0 0 0 0 0 0 0 0 0 0 0 0 0 0 0 0 0 0 0 0 0 0 0 0 0 0 0 0 0 0 0 1 0 0 0 0\n",
      " 0 0 0 0 0 0 0 1 0 0 0 0 0 0 0 0 0 0 0 0 0 0 0 0 0 0 0 0 0 0 0 0 0 0 0 0 0\n",
      " 0 0 0 0 0 0 0 0 0 0 0 0 0 0]\n",
      "Combined Labels: [0, 1, 'finance', 'trade']\n",
      "\n",
      "Original Labels: [0 0 0 1 0 0 0 0 0 0 0 0 0 0 0 0 0 0 0 0 0 0 0 0 0 0 0 0 0 0 0 0 0 0 0 0 0\n",
      " 0 0 0 0 0 0 0 0 0 0 0 0 0 0 0 0 0 0 0 0 0 0 0 0 0 0 0 0 0 0 0 0 0 0 0 0 0\n",
      " 0 0 0 0 0 0 0 0 1 0 0 0 0 0]\n",
      "Combined Labels: [0, 1, 'retail', 'finance', 'trade']\n",
      "\n"
     ]
    }
   ],
   "source": [
    "for i in range(10):  # Check first 10 articles\n",
    "    print(f\"Original Labels: {original_labels[i]}\")\n",
    "    print(f\"Combined Labels: {combined_labels[i]}\")\n",
    "    print()"
   ]
  },
  {
   "cell_type": "code",
   "execution_count": 8,
   "id": "0ce206a3-ad40-44e5-af5d-370f6541fdfa",
   "metadata": {},
   "outputs": [
    {
     "name": "stdout",
     "output_type": "stream",
     "text": [
      "Number of articles with augmented labels: 0\n"
     ]
    }
   ],
   "source": [
    "augmented_count = sum(len(combined) > len(orig) for orig, combined in zip(original_labels, combined_labels))\n",
    "print(f\"Number of articles with augmented labels: {augmented_count}\")"
   ]
  },
  {
   "cell_type": "code",
   "execution_count": 9,
   "id": "2c7dba26-d26f-4c47-8221-310c53511613",
   "metadata": {},
   "outputs": [
    {
     "name": "stdout",
     "output_type": "stream",
     "text": [
      "Tokens: ['japan', 'revis', 'long', 'term', 'energi', 'demand', 'downward', 'ministri', 'intern', 'trade']\n",
      "Matched keywords for label 'finance': ['trade']\n",
      "\n",
      "Tokens: ['thai', 'trade', 'deficit', 'widen', 'first', 'quarter', 'thailand', 'trade', 'deficit', 'widen']\n",
      "Matched keywords for label 'agriculture': ['rice']\n",
      "Matched keywords for label 'finance': ['trade']\n",
      "Matched keywords for label 'trade': ['deficit']\n",
      "Matched keywords for label 'retail': ['growth']\n",
      "\n",
      "Tokens: ['indonesia', 'see', 'price', 'rise', 'sharpli', 'indonesia', 'expect', 'crude', 'palm', 'price']\n",
      "Matched keywords for label 'agriculture': ['crop']\n",
      "Matched keywords for label 'energy': ['crude']\n",
      "Matched keywords for label 'finance': ['market']\n",
      "\n",
      "Tokens: ['indonesian', 'commod', 'exchang', 'expand', 'indonesian', 'commod', 'exchang', 'like', 'start', 'trade']\n",
      "Matched keywords for label 'energy': ['crude']\n",
      "Matched keywords for label 'finance': ['market', 'trade']\n",
      "\n",
      "Tokens: ['lanka', 'get', 'usda', 'approv', 'wheat', 'price', 'food', 'depart', 'offici', 'said']\n",
      "Matched keywords for label 'agriculture': ['wheat', 'grain']\n",
      "Matched keywords for label 'trade': ['shipment']\n",
      "\n",
      "Tokens: ['bundesbank', 'alloc', 'billion', 'mark', 'tender', 'bundesbank', 'accept', 'bid', 'billion', 'mark']\n",
      "Matched keywords for label 'finance': ['market', 'money']\n",
      "Matched keywords for label 'trade': ['agreement']\n",
      "\n",
      "Tokens: ['bond', 'corp', 'still', 'consid', 'atla', 'mine', 'bail', 'bond', 'corp', 'hold']\n",
      "Matched keywords for label 'commodities': ['gold', 'copper']\n",
      "\n",
      "Tokens: ['japan', 'ministri', 'say', 'open', 'farm', 'trade', 'would', 'japan', 'agricultur', 'ministri']\n",
      "Matched keywords for label 'agriculture': ['wheat', 'corn', 'grain', 'soybean', 'rice']\n",
      "Matched keywords for label 'finance': ['market', 'trade']\n",
      "Matched keywords for label 'trade': ['tariff', 'agreement']\n",
      "Matched keywords for label 'livestock': ['beef']\n",
      "\n",
      "Tokens: ['money', 'market', 'deficit', 'forecast', 'bank', 'england', 'said', 'forecast', 'shortag', 'around']\n",
      "Matched keywords for label 'finance': ['market', 'money']\n",
      "Matched keywords for label 'trade': ['deficit']\n",
      "\n",
      "Tokens: ['south', 'korea', 'move', 'slow', 'growth', 'trade', 'surplu', 'south', 'korea', 'trade']\n",
      "Matched keywords for label 'finance': ['market', 'trade']\n",
      "Matched keywords for label 'trade': ['deficit']\n",
      "Matched keywords for label 'retail': ['growth']\n",
      "\n"
     ]
    }
   ],
   "source": [
    "# Test domain matching\n",
    "for tokens in tokenized_texts[:10]:\n",
    "    print(f\"Tokens: {tokens[:10]}\")\n",
    "    for label, keywords in domain_keywords.items():\n",
    "        matching_keywords = [keyword for keyword in keywords if keyword in tokens]\n",
    "        if matching_keywords:\n",
    "            print(f\"Matched keywords for label '{label}': {matching_keywords}\")\n",
    "    print()"
   ]
  },
  {
   "cell_type": "code",
   "execution_count": 10,
   "id": "fe116f8c-7934-4601-8740-3751b5281e86",
   "metadata": {},
   "outputs": [],
   "source": [
    "combined_labels = [\n",
    "    list(set(orig_labels + new_labels))  # Combine original and domain-specific labels, remove duplicates\n",
    "    for orig_labels, new_labels in zip(original_labels.tolist(), updated_labels)\n",
    "]"
   ]
  },
  {
   "cell_type": "code",
   "execution_count": 11,
   "id": "fe7248ca-c708-43a5-91d7-2eaa78a7e2c0",
   "metadata": {},
   "outputs": [
    {
     "name": "stdout",
     "output_type": "stream",
     "text": [
      "Number of articles with more than one label after augmentation: 1628\n"
     ]
    }
   ],
   "source": [
    "num_augmented_multi_label_articles = sum(len(labels) > 1 for labels in combined_labels)\n",
    "print(f\"Number of articles with more than one label after augmentation: {num_augmented_multi_label_articles}\")"
   ]
  },
  {
   "cell_type": "code",
   "execution_count": 12,
   "id": "4b632968-ed51-495a-9775-7e76d99c3e0d",
   "metadata": {},
   "outputs": [
    {
     "name": "stdout",
     "output_type": "stream",
     "text": [
      "Text 1 Tokens: ['japan', 'revis', 'long', 'term', 'energi', 'demand', 'downward', 'ministri', 'intern', 'trade']...\n",
      "Original Labels: [0 0 0 0 0 0 0 0 0 0 0 0 0 0 0 0 1 0 0 0 0 0 0 0 0 0 0 0 0 0 0 0 0 0 0 0 0\n",
      " 0 0 0 0 0 0 0 0 0 0 1 0 0 0 0 0 0 0 0 0 0 0 0 0 0 0 0 0 0 0 0 0 0 0 0 0 0\n",
      " 0 0 0 0 0 0 0 0 0 0 0 0 0 0]\n",
      "Domain-Specific Labels: ['finance']\n",
      "Combined Labels: [0, 1, 'finance']\n",
      "\n",
      "Text 2 Tokens: ['thai', 'trade', 'deficit', 'widen', 'first', 'quarter', 'thailand', 'trade', 'deficit', 'widen']...\n",
      "Original Labels: [0 0 0 0 0 0 0 0 0 0 0 0 1 0 0 0 0 0 0 0 0 0 0 0 0 1 0 0 0 0 0 0 0 0 0 0 0\n",
      " 0 0 0 0 0 0 0 0 0 0 0 0 0 0 0 0 0 0 0 0 0 0 0 0 0 0 0 0 0 1 1 0 0 0 0 0 0\n",
      " 0 0 1 0 0 0 0 1 1 0 0 0 0 0]\n",
      "Domain-Specific Labels: ['agriculture', 'finance', 'trade', 'retail']\n",
      "Combined Labels: [0, 1, 'agriculture', 'retail', 'finance', 'trade']\n",
      "\n",
      "Text 3 Tokens: ['indonesia', 'see', 'price', 'rise', 'sharpli', 'indonesia', 'expect', 'crude', 'palm', 'price']...\n",
      "Original Labels: [0 0 0 0 0 0 0 0 0 0 0 0 0 0 0 0 0 0 0 0 0 0 0 0 0 0 0 0 0 0 0 0 0 0 0 0 0\n",
      " 0 0 0 0 0 0 0 0 0 0 0 0 0 0 0 0 0 0 1 0 0 0 0 0 0 0 0 0 0 0 0 0 0 0 0 0 0\n",
      " 0 0 0 0 0 0 0 0 0 1 0 0 0 0]\n",
      "Domain-Specific Labels: ['agriculture', 'energy', 'finance']\n",
      "Combined Labels: [0, 1, 'agriculture', 'energy', 'finance']\n",
      "\n",
      "Text 4 Tokens: ['indonesian', 'commod', 'exchang', 'expand', 'indonesian', 'commod', 'exchang', 'like', 'start', 'trade']...\n",
      "Original Labels: [0 0 0 0 0 0 0 0 0 1 0 0 0 0 0 0 0 0 0 0 0 0 0 0 0 0 0 0 0 0 0 0 0 0 0 0 0\n",
      " 0 0 0 0 0 1 0 0 0 0 0 0 0 0 0 0 0 0 1 0 0 0 0 0 0 0 0 0 0 0 1 0 0 0 0 0 0\n",
      " 0 0 0 0 0 0 0 0 0 1 0 0 0 0]\n",
      "Domain-Specific Labels: ['energy', 'finance']\n",
      "Combined Labels: [0, 1, 'finance', 'energy']\n",
      "\n",
      "Text 5 Tokens: ['lanka', 'get', 'usda', 'approv', 'wheat', 'price', 'food', 'depart', 'offici', 'said']...\n",
      "Original Labels: [0 0 0 0 0 0 0 0 0 0 0 0 0 0 0 0 0 0 0 0 0 0 0 0 0 1 0 0 0 0 0 0 0 0 0 0 0\n",
      " 0 0 0 0 0 0 0 0 0 0 0 0 0 0 0 0 0 0 0 0 0 0 0 0 0 0 0 0 0 0 0 0 0 0 0 0 0\n",
      " 0 0 0 0 0 0 0 0 0 0 1 0 0 0]\n",
      "Domain-Specific Labels: ['agriculture', 'trade']\n",
      "Combined Labels: [0, 1, 'trade', 'agriculture']\n",
      "\n"
     ]
    }
   ],
   "source": [
    "for i, (tokens, orig_labels, updated, combined) in enumerate(zip(tokenized_texts[:5], original_labels[:5], updated_labels[:5], combined_labels[:5])):\n",
    "    print(f\"Text {i + 1} Tokens: {tokens[:10]}...\")\n",
    "    print(f\"Original Labels: {orig_labels}\")\n",
    "    print(f\"Domain-Specific Labels: {updated}\")\n",
    "    print(f\"Combined Labels: {combined}\\n\")"
   ]
  },
  {
   "cell_type": "code",
   "execution_count": 13,
   "id": "c9a0a54f-5cda-4d21-a287-98fdcff09de4",
   "metadata": {},
   "outputs": [],
   "source": [
    "### maybe this is getting too complicated. going to take it back to a simple model we can experiment on.#"
   ]
  },
  {
   "cell_type": "code",
   "execution_count": 14,
   "id": "0bfa9000-febf-4585-86af-e975f46d082a",
   "metadata": {},
   "outputs": [
    {
     "name": "stderr",
     "output_type": "stream",
     "text": [
      "[nltk_data] Downloading package reuters to\n",
      "[nltk_data]     /Users/colinwilkie/nltk_data...\n",
      "[nltk_data]   Package reuters is already up-to-date!\n",
      "[nltk_data] Downloading package stopwords to\n",
      "[nltk_data]     /Users/colinwilkie/nltk_data...\n",
      "[nltk_data]   Package stopwords is already up-to-date!\n"
     ]
    },
    {
     "name": "stdout",
     "output_type": "stream",
     "text": [
      "Number of articles with at least two labels: 10788\n",
      "Augmented labels saved as JSON.\n"
     ]
    }
   ],
   "source": [
    "import nltk\n",
    "import pandas as pd\n",
    "import numpy as np\n",
    "import re\n",
    "import string\n",
    "from nltk.corpus import reuters, stopwords\n",
    "from nltk.stem import PorterStemmer\n",
    "from sklearn.preprocessing import MultiLabelBinarizer\n",
    "\n",
    "# Download required NLTK data\n",
    "nltk.download('reuters')\n",
    "nltk.download('stopwords')\n",
    "\n",
    "# Define domain-specific keywords\n",
    "domain_keywords = {\n",
    "    \"agriculture\": [\n",
    "        \"wheat\", \"corn\", \"grain\", \"soybean\", \"crop\", \"harvest\", \"farming\", \"rice\", \"barley\",\n",
    "        \"sorghum\", \"cotton\", \"plantation\", \"livestock\", \"oilseed\", \"palm-oil\", \"veg-oil\",\n",
    "        \"sugar\", \"rubber\"\n",
    "    ],\n",
    "    \"energy\": [\n",
    "        \"oil\", \"gas\", \"fuel\", \"crude\", \"barrel\", \"bpd\", \"petroleum\", \"energy\", \"prices\",\n",
    "        \"production\", \"reserves\", \"nat-gas\", \"electricity\"\n",
    "    ],\n",
    "    \"finance\": [\n",
    "        \"market\", \"stock\", \"shares\", \"investment\", \"economy\", \"profit\", \"trade\", \"money\",\n",
    "        \"currency\", \"rates\", \"bonds\", \"treasury\", \"deficit\"\n",
    "    ],\n",
    "    \"commodities\": [\n",
    "        \"gold\", \"silver\", \"copper\", \"tin\", \"aluminium\", \"zinc\", \"platinum\", \"nickel\",\n",
    "        \"palladium\", \"strategic-metal\", \"rubber\", \"sugar\", \"coffee\"\n",
    "    ],\n",
    "    \"trade\": [\n",
    "        \"exports\", \"imports\", \"tariff\", \"agreement\", \"deficit\", \"surplus\", \"shipment\",\n",
    "        \"commerce\", \"international\", \"global\", \"balance\", \"trade-war\", \"export-growth\"\n",
    "    ],\n",
    "    \"livestock\": [\n",
    "        \"beef\", \"pork\", \"cattle\", \"hog\", \"meat\", \"slaughter\", \"dairy\", \"poultry\"\n",
    "    ],\n",
    "    \"retail\": [\n",
    "        \"retail\", \"sales\", \"growth\", \"consumer\", \"earnings\", \"income\", \"e-commerce\", \"spending\"\n",
    "    ],\n",
    "    \"environment\": [\n",
    "        \"climate\", \"carbon\", \"sustainability\", \"pollution\", \"green\", \"renewable\",\n",
    "        \"emissions\", \"clean-energy\", \"eco-friendly\"\n",
    "    ],\n",
    "}\n",
    "\n",
    "# Initialize the tokenizer\n",
    "class UnifiedTokenizer:\n",
    "    def __init__(self, stop_words, min_length=4, use_stemming=False):\n",
    "        self.stop_words = stop_words\n",
    "        self.min_length = min_length\n",
    "        self.use_stemming = use_stemming\n",
    "        self.stemmer = PorterStemmer() if use_stemming else None\n",
    "\n",
    "    def tokenize(self, text):\n",
    "        text = text.lower()  # Lowercase\n",
    "        text = re.sub(f'[{re.escape(string.punctuation)}]', ' ', text)  # Remove punctuation\n",
    "        text = re.sub(r'\\d+', '', text)  # Remove numbers\n",
    "        tokens = text.split()  # Split into tokens\n",
    "        tokens = [\n",
    "            self.stemmer.stem(word) if self.use_stemming else word\n",
    "            for word in tokens\n",
    "            if word not in self.stop_words and len(word) >= self.min_length\n",
    "        ]\n",
    "        return tokens\n",
    "\n",
    "# Load and preprocess the dataset\n",
    "stop_words = set(stopwords.words('english'))\n",
    "tokenizer = UnifiedTokenizer(stop_words=stop_words, min_length=4, use_stemming=True)\n",
    "\n",
    "# Load Reuters dataset\n",
    "documents = reuters.fileids()\n",
    "texts = [reuters.raw(doc_id) for doc_id in documents]\n",
    "labels = [reuters.categories(doc_id) for doc_id in documents]\n",
    "\n",
    "# Create DataFrame\n",
    "data = pd.DataFrame({'document_id': documents, 'text': texts, 'labels': labels})\n",
    "data['tokens'] = data['text'].apply(tokenizer.tokenize)\n",
    "\n",
    "# Augment labels\n",
    "def add_domain_labels(tokens, existing_labels):\n",
    "    matched_labels = set(existing_labels)\n",
    "    for domain, keywords in domain_keywords.items():\n",
    "        if any(keyword in tokens for keyword in keywords):\n",
    "            matched_labels.add(domain)\n",
    "    return list(matched_labels)\n",
    "\n",
    "# Apply label augmentation\n",
    "data['augmented_labels'] = data.apply(\n",
    "    lambda row: add_domain_labels(row['tokens'], row['labels']),\n",
    "    axis=1\n",
    ")\n",
    "\n",
    "# Ensure at least two labels per article\n",
    "data['final_labels'] = data['augmented_labels'].apply(\n",
    "    lambda labels: labels if len(labels) > 1 else labels + [\"additional_label\"]\n",
    ")\n",
    "\n",
    "# Verify results\n",
    "multi_label_count = data['final_labels'].apply(len).value_counts()\n",
    "print(f\"Number of articles with at least two labels: {multi_label_count[multi_label_count.index >= 2].sum()}\")\n",
    "\n",
    "# Save augmented dataset\n",
    "# Save augmented labels as JSON\n",
    "import json\n",
    "with open(\"augmented_labels.json\", \"w\") as f:\n",
    "    json.dump(data['final_labels'].tolist(), f)\n",
    "print(\"Augmented labels saved as JSON.\")"
   ]
  },
  {
   "cell_type": "code",
   "execution_count": 15,
   "id": "f050858a-f425-40ef-a5bf-38688cfaca8c",
   "metadata": {},
   "outputs": [
    {
     "name": "stdout",
     "output_type": "stream",
     "text": [
      "Article 1 Text: ASIAN EXPORTERS FEAR DAMAGE FROM U.S.-JAPAN RIFT\n",
      "  Mounting trade friction between the\n",
      "  U.S. And Ja...\n",
      "Original Labels: ['trade']\n",
      "Augmented Labels: ['finance', 'trade', 'livestock']\n",
      "\n",
      "Article 2 Text: CHINA DAILY SAYS VERMIN EAT 7-12 PCT GRAIN STOCKS\n",
      "  A survey of 19 provinces and seven cities\n",
      "  show...\n",
      "Original Labels: ['grain']\n",
      "Augmented Labels: ['agriculture', 'finance', 'grain']\n",
      "\n",
      "Article 3 Text: JAPAN TO REVISE LONG-TERM ENERGY DEMAND DOWNWARDS\n",
      "  The Ministry of International Trade and\n",
      "  Indust...\n",
      "Original Labels: ['crude', 'nat-gas']\n",
      "Augmented Labels: ['finance', 'nat-gas', 'crude']\n",
      "\n",
      "Article 4 Text: THAI TRADE DEFICIT WIDENS IN FIRST QUARTER\n",
      "  Thailand's trade deficit widened to 4.5\n",
      "  billion baht ...\n",
      "Original Labels: ['corn', 'grain', 'rice', 'rubber', 'sugar', 'tin', 'trade']\n",
      "Augmented Labels: ['agriculture', 'rice', 'rubber', 'tin', 'commodities', 'retail', 'finance', 'corn', 'trade', 'grain', 'sugar']\n",
      "\n",
      "Article 5 Text: INDONESIA SEES CPO PRICE RISING SHARPLY\n",
      "  Indonesia expects crude palm oil (CPO)\n",
      "  prices to rise sh...\n",
      "Original Labels: ['palm-oil', 'veg-oil']\n",
      "Augmented Labels: ['agriculture', 'palm-oil', 'energy', 'finance', 'veg-oil']\n",
      "\n"
     ]
    }
   ],
   "source": [
    "# Load augmented labels (if saved in JSON)\n",
    "import json\n",
    "with open(\"augmented_labels.json\", \"r\") as f:\n",
    "    augmented_labels = json.load(f)\n",
    "\n",
    "# Display a few examples\n",
    "for i, (text, original_labels, final_labels) in enumerate(\n",
    "    zip(data['text'][:5], data['labels'][:5], data['final_labels'][:5])\n",
    "):\n",
    "    print(f\"Article {i + 1} Text: {text[:100]}...\")  # Show the first 100 characters of the text\n",
    "    print(f\"Original Labels: {original_labels}\")\n",
    "    print(f\"Augmented Labels: {final_labels}\\n\")"
   ]
  },
  {
   "cell_type": "code",
   "execution_count": 16,
   "id": "cb4f603a-670d-42a2-bdab-22cd9864f5f5",
   "metadata": {},
   "outputs": [],
   "source": [
    "### test model"
   ]
  },
  {
   "cell_type": "code",
   "execution_count": 22,
   "id": "623ab37a-3743-4547-b6f7-3ccfd21b41a7",
   "metadata": {},
   "outputs": [
    {
     "name": "stdout",
     "output_type": "stream",
     "text": [
      "Tokenized all articles: 10788\n"
     ]
    }
   ],
   "source": [
    "# Preprocess all articles\n",
    "documents = reuters.fileids()\n",
    "texts = [reuters.raw(doc_id) for doc_id in documents]\n",
    "\n",
    "# Tokenize all articles\n",
    "all_tokenized_texts = [tokenizer.tokenize(text) for text in texts]\n",
    "\n",
    "# Save the tokenized texts\n",
    "with open(\"tokenized_texts.json\", \"w\") as f:\n",
    "    json.dump(all_tokenized_texts, f)\n",
    "print(f\"Tokenized all articles: {len(all_tokenized_texts)}\")"
   ]
  },
  {
   "cell_type": "code",
   "execution_count": 45,
   "id": "52724811-befa-49d7-9f50-d3b66022b48b",
   "metadata": {},
   "outputs": [
    {
     "name": "stdout",
     "output_type": "stream",
     "text": [
      "Training samples: 7551, Validation samples: 1618, Test samples: 1619\n"
     ]
    }
   ],
   "source": [
    "# Step 1: Reload all tokenized texts and augmented labels\n",
    "with open(\"tokenized_texts.json\", \"r\") as f:\n",
    "    all_tokenized_texts = json.load(f)\n",
    "\n",
    "with open(\"augmented_labels.json\", \"r\") as f:\n",
    "    augmented_labels = json.load(f)\n",
    "\n",
    "# Ensure the lengths match\n",
    "if len(all_tokenized_texts) != len(augmented_labels):\n",
    "    raise ValueError(\"Mismatch: tokenized_texts and augmented_labels must have the same length!\")\n",
    "\n",
    "# Convert augmented labels to one-hot encoding\n",
    "all_labels = list(set(label for labels in augmented_labels for label in labels))\n",
    "label_to_index = {label: idx for idx, label in enumerate(all_labels)}\n",
    "\n",
    "# One-hot encode the labels\n",
    "encoded_labels = [\n",
    "    [label_to_index[label] for label in labels] for labels in augmented_labels\n",
    "]\n",
    "y = np.zeros((len(encoded_labels), len(all_labels)), dtype=int)\n",
    "for i, labels in enumerate(encoded_labels):\n",
    "    for label in labels:\n",
    "        y[i, label] = 1\n",
    "\n",
    "# Step 2: Split tokenized texts and labels\n",
    "from sklearn.model_selection import train_test_split\n",
    "\n",
    "X_train, X_temp, y_train, y_temp = train_test_split(\n",
    "    all_tokenized_texts, y, test_size=0.3, random_state=42\n",
    ")\n",
    "X_val, X_test, y_val, y_test = train_test_split(X_temp, y_temp, test_size=0.5, random_state=42)\n",
    "\n",
    "print(f\"Training samples: {len(X_train)}, Validation samples: {len(X_val)}, Test samples: {len(X_test)}\")"
   ]
  },
  {
   "cell_type": "code",
   "execution_count": 21,
   "id": "28bf4bb6-9c3e-4c26-a103-8af8ebfe63bb",
   "metadata": {},
   "outputs": [
    {
     "name": "stdout",
     "output_type": "stream",
     "text": [
      "Length of tokenized_texts: 10788\n",
      "Length of augmented_labels: 10788\n"
     ]
    }
   ],
   "source": [
    "print(f\"Length of tokenized_texts: {len(all_tokenized_texts)}\")\n",
    "print(f\"Length of augmented_labels: {len(augmented_labels)}\")"
   ]
  },
  {
   "cell_type": "code",
   "execution_count": null,
   "id": "b19fa8a0-4d7b-42c2-9982-3c23e0bfc266",
   "metadata": {},
   "outputs": [
    {
     "name": "stdout",
     "output_type": "stream",
     "text": [
      "Length of tokenized_texts: 10788\n",
      "Length of augmented_labels: 10788\n"
     ]
    }
   ],
   "source": [
    "# Reload tokenized texts and augmented labels\n",
    "with open(\"tokenized_texts.json\", \"r\") as f:\n",
    "    tokenized_texts = json.load(f)\n",
    "with open(\"augmented_labels.json\", \"r\") as f:\n",
    "    augmented_labels = json.load(f)\n",
    "\n",
    "# Verify lengths\n",
    "print(f\"Length of tokenized_texts: {len(tokenized_texts)}\")\n",
    "print(f\"Length of augmented_labels: {len(augmented_labels)}\")\n",
    "\n",
    "# Check if lengths match\n",
    "if len(tokenized_texts) != len(augmented_labels):\n",
    "    raise ValueError(\"Lengths of tokenized_texts and augmented_labels do not match!\")"
   ]
  },
  {
   "cell_type": "code",
   "execution_count": 24,
   "id": "e4322d23-7521-441d-8736-b0eeb5dcd1d1",
   "metadata": {},
   "outputs": [
    {
     "name": "stdout",
     "output_type": "stream",
     "text": [
      "Shape of y: (1628, 88)\n"
     ]
    }
   ],
   "source": [
    "print(f\"Shape of y: {y.shape}\")"
   ]
  },
  {
   "cell_type": "code",
   "execution_count": 25,
   "id": "7ab0502a-1721-4914-aee7-c1baabd1648e",
   "metadata": {},
   "outputs": [
    {
     "name": "stdout",
     "output_type": "stream",
     "text": [
      "Example one-hot encoded labels: [0 0 0 0 0 0 0 0 0 0 0 0 0 0 0 0 1 0 0 0 0 0 0 0 0 0 0 0 0 0 0 0 0 0 0 0 0\n",
      " 0 0 0 0 0 0 0 0 0 0 1 0 0 0 0 0 0 0 0 0 0 0 0 0 0 0 0 0 0 0 0 0 0 0 0 0 0\n",
      " 0 0 0 0 0 0 0 0 0 0 0 0 0 0]\n"
     ]
    }
   ],
   "source": [
    "print(f\"Example one-hot encoded labels: {y[0]}\")"
   ]
  },
  {
   "cell_type": "code",
   "execution_count": 26,
   "id": "709c6842-c80d-42ff-b404-7b342c8cc8e4",
   "metadata": {},
   "outputs": [
    {
     "name": "stdout",
     "output_type": "stream",
     "text": [
      "Shape of one-hot encoded labels: (10788, 96)\n",
      "Training samples: 7551, Validation samples: 1618, Test samples: 1619\n",
      "Data saved successfully for multi-label classification.\n"
     ]
    }
   ],
   "source": [
    "import json\n",
    "import numpy as np\n",
    "from sklearn.model_selection import train_test_split\n",
    "\n",
    "# Step 1: Reload Data\n",
    "with open(\"tokenized_texts.json\", \"r\") as f:\n",
    "    tokenized_texts = json.load(f)\n",
    "\n",
    "with open(\"augmented_labels.json\", \"r\") as f:\n",
    "    augmented_labels = json.load(f)\n",
    "\n",
    "# Ensure lengths match\n",
    "assert len(tokenized_texts) == len(augmented_labels), \"Mismatch in tokenized texts and labels!\"\n",
    "\n",
    "# Step 2: One-Hot Encode the Labels\n",
    "all_labels = list(set(label for labels in augmented_labels for label in labels))\n",
    "label_to_index = {label: idx for idx, label in enumerate(all_labels)}\n",
    "y = np.zeros((len(augmented_labels), len(all_labels)), dtype=int)\n",
    "\n",
    "for i, labels in enumerate(augmented_labels):\n",
    "    for label in labels:\n",
    "        y[i, label_to_index[label]] = 1\n",
    "\n",
    "print(f\"Shape of one-hot encoded labels: {y.shape}\")\n",
    "\n",
    "# Step 3: Train/Validation/Test Split\n",
    "X_train, X_temp, y_train, y_temp = train_test_split(\n",
    "    tokenized_texts, y, test_size=0.3, random_state=42\n",
    ")\n",
    "X_val, X_test, y_val, y_test = train_test_split(X_temp, y_temp, test_size=0.5, random_state=42)\n",
    "\n",
    "print(f\"Training samples: {len(X_train)}, Validation samples: {len(X_val)}, Test samples: {len(X_test)}\")\n",
    "\n",
    "# Step 4: Save Data\n",
    "# Save tokenized texts as JSON\n",
    "with open(\"X_train.json\", \"w\") as f:\n",
    "    json.dump(X_train, f)\n",
    "with open(\"X_val.json\", \"w\") as f:\n",
    "    json.dump(X_val, f)\n",
    "with open(\"X_test.json\", \"w\") as f:\n",
    "    json.dump(X_test, f)\n",
    "\n",
    "# Save labels as .npy files\n",
    "np.save(\"y_train.npy\", y_train)\n",
    "np.save(\"y_val.npy\", y_val)\n",
    "np.save(\"y_test.npy\", y_test)\n",
    "\n",
    "print(\"Data saved successfully for multi-label classification.\")"
   ]
  },
  {
   "cell_type": "code",
   "execution_count": 27,
   "id": "917253da-c305-4e26-9975-d0d2b6d75d7e",
   "metadata": {},
   "outputs": [
    {
     "name": "stdout",
     "output_type": "stream",
     "text": [
      "Number of training samples: 7551\n",
      "Shape of training labels: (7551, 96)\n"
     ]
    }
   ],
   "source": [
    "import json\n",
    "import numpy as np\n",
    "\n",
    "# Reload Data\n",
    "with open(\"X_train.json\", \"r\") as f:\n",
    "    X_train = json.load(f)\n",
    "y_train = np.load(\"y_train.npy\")\n",
    "\n",
    "print(f\"Number of training samples: {len(X_train)}\")\n",
    "print(f\"Shape of training labels: {y_train.shape}\")"
   ]
  },
  {
   "cell_type": "code",
   "execution_count": 28,
   "id": "8d13ecd4-4828-47a1-aec5-dcd050124a5d",
   "metadata": {},
   "outputs": [],
   "source": [
    "### Base model, including preproc and tok"
   ]
  },
  {
   "cell_type": "code",
   "execution_count": 29,
   "id": "a8fdd08a-11bf-4386-995c-a6a13df07dd5",
   "metadata": {},
   "outputs": [
    {
     "name": "stderr",
     "output_type": "stream",
     "text": [
      "[nltk_data] Downloading package reuters to\n",
      "[nltk_data]     /Users/colinwilkie/nltk_data...\n",
      "[nltk_data]   Package reuters is already up-to-date!\n",
      "[nltk_data] Downloading package stopwords to\n",
      "[nltk_data]     /Users/colinwilkie/nltk_data...\n",
      "[nltk_data]   Package stopwords is already up-to-date!\n"
     ]
    },
    {
     "name": "stdout",
     "output_type": "stream",
     "text": [
      "Preprocessing complete. Articles: 10788, Labels: 10788\n"
     ]
    }
   ],
   "source": [
    "import nltk\n",
    "import pandas as pd\n",
    "import numpy as np\n",
    "import json\n",
    "import re\n",
    "import string\n",
    "from nltk.corpus import reuters, stopwords\n",
    "from tensorflow.keras.utils import pad_sequences\n",
    "from sklearn.preprocessing import MultiLabelBinarizer\n",
    "\n",
    "# Download NLTK resources\n",
    "nltk.download('reuters')\n",
    "nltk.download('stopwords')\n",
    "\n",
    "# Step 1: Define tokenizer and preprocess functions\n",
    "class Tokenizer:\n",
    "    def __init__(self, stop_words=None):\n",
    "        self.stop_words = stop_words or set(stopwords.words('english'))\n",
    "    \n",
    "    def tokenize(self, text):\n",
    "        text = text.lower()\n",
    "        text = re.sub(f\"[{re.escape(string.punctuation)}]\", \" \", text)\n",
    "        text = re.sub(r\"\\d+\", \" \", text)\n",
    "        tokens = text.split()\n",
    "        return [word for word in tokens if word not in self.stop_words]\n",
    "\n",
    "# Step 2: Build Vocabulary\n",
    "def build_vocabulary(tokenized_texts, max_features=10000):\n",
    "    word_counts = {}\n",
    "    for tokens in tokenized_texts:\n",
    "        for token in tokens:\n",
    "            word_counts[token] = word_counts.get(token, 0) + 1\n",
    "    sorted_vocab = sorted(word_counts.items(), key=lambda x: x[1], reverse=True)\n",
    "    return {word: idx + 1 for idx, (word, _) in enumerate(sorted_vocab[:max_features])}\n",
    "\n",
    "# Step 3: Add domain-specific labels\n",
    "domain_keywords = {\n",
    "    \"agriculture\": [\"wheat\", \"corn\", \"grain\", \"soybean\", \"crop\", \"harvest\", \"rice\"],\n",
    "    \"energy\": [\"oil\", \"gas\", \"fuel\", \"crude\", \"barrel\", \"energy\", \"production\"],\n",
    "    \"finance\": [\"market\", \"stock\", \"trade\", \"money\", \"investment\", \"economy\", \"profit\"],\n",
    "    \"commodities\": [\"gold\", \"silver\", \"copper\", \"tin\", \"zinc\", \"platinum\", \"nickel\"],\n",
    "    \"trade\": [\"exports\", \"imports\", \"tariff\", \"agreement\", \"commerce\", \"global\"],\n",
    "}\n",
    "\n",
    "def augment_labels(tokenized_texts, original_labels):\n",
    "    augmented_labels = []\n",
    "    for tokens, labels in zip(tokenized_texts, original_labels):\n",
    "        domain_labels = [label for label, keywords in domain_keywords.items() if any(keyword in tokens for keyword in keywords)]\n",
    "        augmented_labels.append(list(set(labels + domain_labels)))\n",
    "    return augmented_labels\n",
    "\n",
    "# Step 4: Process the data\n",
    "documents = reuters.fileids()\n",
    "texts = [reuters.raw(doc_id) for doc_id in documents]\n",
    "original_labels = [reuters.categories(doc_id) for doc_id in documents]\n",
    "\n",
    "tokenizer = Tokenizer(stop_words=set(stopwords.words(\"english\")) | {\"reuters\", \"news\"})\n",
    "tokenized_texts = [tokenizer.tokenize(text) for text in texts]\n",
    "\n",
    "vocabulary = build_vocabulary(tokenized_texts)\n",
    "sequences = [[vocabulary.get(token, 0) for token in tokens] for tokens in tokenized_texts]\n",
    "\n",
    "mlb = MultiLabelBinarizer()\n",
    "binary_labels = mlb.fit_transform(original_labels)\n",
    "augmented_labels = augment_labels(tokenized_texts, [mlb.classes_[np.where(row == 1)[0]].tolist() for row in binary_labels])\n",
    "\n",
    "# Save preprocessed data\n",
    "with open(\"tokenized_texts.json\", \"w\") as f:\n",
    "    json.dump(sequences, f)\n",
    "with open(\"vocabulary.json\", \"w\") as f:\n",
    "    json.dump(vocabulary, f)\n",
    "with open(\"augmented_labels.json\", \"w\") as f:\n",
    "    json.dump(augmented_labels, f)\n",
    "\n",
    "print(f\"Preprocessing complete. Articles: {len(sequences)}, Labels: {len(augmented_labels)}\")"
   ]
  },
  {
   "cell_type": "code",
   "execution_count": 30,
   "id": "11c6263b-488c-481d-8943-9f06aef09227",
   "metadata": {},
   "outputs": [
    {
     "name": "stdout",
     "output_type": "stream",
     "text": [
      "Training samples: 7551, Validation samples: 1618, Test samples: 1619\n"
     ]
    }
   ],
   "source": [
    "# Reload the preprocessed data\n",
    "with open(\"tokenized_texts.json\", \"r\") as f:\n",
    "    tokenized_texts = json.load(f)\n",
    "with open(\"augmented_labels.json\", \"r\") as f:\n",
    "    augmented_labels = json.load(f)\n",
    "with open(\"vocabulary.json\", \"r\") as f:\n",
    "    vocabulary = json.load(f)\n",
    "\n",
    "# Pad sequences\n",
    "max_sequence_length = 500\n",
    "X = pad_sequences(tokenized_texts, maxlen=max_sequence_length, padding=\"post\")\n",
    "\n",
    "# One-hot encode labels\n",
    "all_labels = list(set(label for labels in augmented_labels for label in labels))\n",
    "mlb = MultiLabelBinarizer(classes=all_labels)\n",
    "y = mlb.fit_transform(augmented_labels)\n",
    "\n",
    "# Split the data\n",
    "from sklearn.model_selection import train_test_split\n",
    "\n",
    "X_train, X_temp, y_train, y_temp = train_test_split(X, y, test_size=0.3, random_state=42)\n",
    "X_val, X_test, y_val, y_test = train_test_split(X_temp, y_temp, test_size=0.5, random_state=42)\n",
    "\n",
    "print(f\"Training samples: {len(X_train)}, Validation samples: {len(X_val)}, Test samples: {len(X_test)}\")"
   ]
  },
  {
   "cell_type": "code",
   "execution_count": 31,
   "id": "6851ec13-15dc-4beb-9f42-d219d02a11b6",
   "metadata": {},
   "outputs": [
    {
     "name": "stderr",
     "output_type": "stream",
     "text": [
      "/opt/anaconda3/lib/python3.12/site-packages/keras/src/layers/core/embedding.py:90: UserWarning: Argument `input_length` is deprecated. Just remove it.\n",
      "  warnings.warn(\n"
     ]
    },
    {
     "data": {
      "text/html": [
       "<pre style=\"white-space:pre;overflow-x:auto;line-height:normal;font-family:Menlo,'DejaVu Sans Mono',consolas,'Courier New',monospace\"><span style=\"font-weight: bold\">Model: \"sequential\"</span>\n",
       "</pre>\n"
      ],
      "text/plain": [
       "\u001b[1mModel: \"sequential\"\u001b[0m\n"
      ]
     },
     "metadata": {},
     "output_type": "display_data"
    },
    {
     "data": {
      "text/html": [
       "<pre style=\"white-space:pre;overflow-x:auto;line-height:normal;font-family:Menlo,'DejaVu Sans Mono',consolas,'Courier New',monospace\">┏━━━━━━━━━━━━━━━━━━━━━━━━━━━━━━━━━┳━━━━━━━━━━━━━━━━━━━━━━━━┳━━━━━━━━━━━━━━━┓\n",
       "┃<span style=\"font-weight: bold\"> Layer (type)                    </span>┃<span style=\"font-weight: bold\"> Output Shape           </span>┃<span style=\"font-weight: bold\">       Param # </span>┃\n",
       "┡━━━━━━━━━━━━━━━━━━━━━━━━━━━━━━━━━╇━━━━━━━━━━━━━━━━━━━━━━━━╇━━━━━━━━━━━━━━━┩\n",
       "│ embedding (<span style=\"color: #0087ff; text-decoration-color: #0087ff\">Embedding</span>)           │ ?                      │   <span style=\"color: #00af00; text-decoration-color: #00af00\">0</span> (unbuilt) │\n",
       "├─────────────────────────────────┼────────────────────────┼───────────────┤\n",
       "│ lstm (<span style=\"color: #0087ff; text-decoration-color: #0087ff\">LSTM</span>)                     │ ?                      │   <span style=\"color: #00af00; text-decoration-color: #00af00\">0</span> (unbuilt) │\n",
       "├─────────────────────────────────┼────────────────────────┼───────────────┤\n",
       "│ dense (<span style=\"color: #0087ff; text-decoration-color: #0087ff\">Dense</span>)                   │ ?                      │   <span style=\"color: #00af00; text-decoration-color: #00af00\">0</span> (unbuilt) │\n",
       "└─────────────────────────────────┴────────────────────────┴───────────────┘\n",
       "</pre>\n"
      ],
      "text/plain": [
       "┏━━━━━━━━━━━━━━━━━━━━━━━━━━━━━━━━━┳━━━━━━━━━━━━━━━━━━━━━━━━┳━━━━━━━━━━━━━━━┓\n",
       "┃\u001b[1m \u001b[0m\u001b[1mLayer (type)                   \u001b[0m\u001b[1m \u001b[0m┃\u001b[1m \u001b[0m\u001b[1mOutput Shape          \u001b[0m\u001b[1m \u001b[0m┃\u001b[1m \u001b[0m\u001b[1m      Param #\u001b[0m\u001b[1m \u001b[0m┃\n",
       "┡━━━━━━━━━━━━━━━━━━━━━━━━━━━━━━━━━╇━━━━━━━━━━━━━━━━━━━━━━━━╇━━━━━━━━━━━━━━━┩\n",
       "│ embedding (\u001b[38;5;33mEmbedding\u001b[0m)           │ ?                      │   \u001b[38;5;34m0\u001b[0m (unbuilt) │\n",
       "├─────────────────────────────────┼────────────────────────┼───────────────┤\n",
       "│ lstm (\u001b[38;5;33mLSTM\u001b[0m)                     │ ?                      │   \u001b[38;5;34m0\u001b[0m (unbuilt) │\n",
       "├─────────────────────────────────┼────────────────────────┼───────────────┤\n",
       "│ dense (\u001b[38;5;33mDense\u001b[0m)                   │ ?                      │   \u001b[38;5;34m0\u001b[0m (unbuilt) │\n",
       "└─────────────────────────────────┴────────────────────────┴───────────────┘\n"
      ]
     },
     "metadata": {},
     "output_type": "display_data"
    },
    {
     "data": {
      "text/html": [
       "<pre style=\"white-space:pre;overflow-x:auto;line-height:normal;font-family:Menlo,'DejaVu Sans Mono',consolas,'Courier New',monospace\"><span style=\"font-weight: bold\"> Total params: </span><span style=\"color: #00af00; text-decoration-color: #00af00\">0</span> (0.00 B)\n",
       "</pre>\n"
      ],
      "text/plain": [
       "\u001b[1m Total params: \u001b[0m\u001b[38;5;34m0\u001b[0m (0.00 B)\n"
      ]
     },
     "metadata": {},
     "output_type": "display_data"
    },
    {
     "data": {
      "text/html": [
       "<pre style=\"white-space:pre;overflow-x:auto;line-height:normal;font-family:Menlo,'DejaVu Sans Mono',consolas,'Courier New',monospace\"><span style=\"font-weight: bold\"> Trainable params: </span><span style=\"color: #00af00; text-decoration-color: #00af00\">0</span> (0.00 B)\n",
       "</pre>\n"
      ],
      "text/plain": [
       "\u001b[1m Trainable params: \u001b[0m\u001b[38;5;34m0\u001b[0m (0.00 B)\n"
      ]
     },
     "metadata": {},
     "output_type": "display_data"
    },
    {
     "data": {
      "text/html": [
       "<pre style=\"white-space:pre;overflow-x:auto;line-height:normal;font-family:Menlo,'DejaVu Sans Mono',consolas,'Courier New',monospace\"><span style=\"font-weight: bold\"> Non-trainable params: </span><span style=\"color: #00af00; text-decoration-color: #00af00\">0</span> (0.00 B)\n",
       "</pre>\n"
      ],
      "text/plain": [
       "\u001b[1m Non-trainable params: \u001b[0m\u001b[38;5;34m0\u001b[0m (0.00 B)\n"
      ]
     },
     "metadata": {},
     "output_type": "display_data"
    },
    {
     "name": "stdout",
     "output_type": "stream",
     "text": [
      "Epoch 1/10\n",
      "\u001b[1m118/118\u001b[0m \u001b[32m━━━━━━━━━━━━━━━━━━━━\u001b[0m\u001b[37m\u001b[0m \u001b[1m66s\u001b[0m 531ms/step - accuracy: 0.1064 - loss: 0.2540 - val_accuracy: 0.0062 - val_loss: 0.0673\n",
      "Epoch 2/10\n",
      "\u001b[1m118/118\u001b[0m \u001b[32m━━━━━━━━━━━━━━━━━━━━\u001b[0m\u001b[37m\u001b[0m \u001b[1m53s\u001b[0m 444ms/step - accuracy: 0.0725 - loss: 0.0669 - val_accuracy: 0.0062 - val_loss: 0.0667\n",
      "Epoch 3/10\n",
      "\u001b[1m118/118\u001b[0m \u001b[32m━━━━━━━━━━━━━━━━━━━━\u001b[0m\u001b[37m\u001b[0m \u001b[1m52s\u001b[0m 438ms/step - accuracy: 0.0140 - loss: 0.0672 - val_accuracy: 0.0062 - val_loss: 0.0666\n",
      "Epoch 4/10\n",
      "\u001b[1m118/118\u001b[0m \u001b[32m━━━━━━━━━━━━━━━━━━━━\u001b[0m\u001b[37m\u001b[0m \u001b[1m47s\u001b[0m 402ms/step - accuracy: 0.0049 - loss: 0.0660 - val_accuracy: 0.0062 - val_loss: 0.0666\n",
      "Epoch 5/10\n",
      "\u001b[1m118/118\u001b[0m \u001b[32m━━━━━━━━━━━━━━━━━━━━\u001b[0m\u001b[37m\u001b[0m \u001b[1m55s\u001b[0m 463ms/step - accuracy: 0.0493 - loss: 0.0671 - val_accuracy: 0.0062 - val_loss: 0.0665\n",
      "Epoch 6/10\n",
      "\u001b[1m118/118\u001b[0m \u001b[32m━━━━━━━━━━━━━━━━━━━━\u001b[0m\u001b[37m\u001b[0m \u001b[1m48s\u001b[0m 406ms/step - accuracy: 0.0104 - loss: 0.0669 - val_accuracy: 0.0062 - val_loss: 0.0666\n",
      "Epoch 7/10\n",
      "\u001b[1m118/118\u001b[0m \u001b[32m━━━━━━━━━━━━━━━━━━━━\u001b[0m\u001b[37m\u001b[0m \u001b[1m46s\u001b[0m 387ms/step - accuracy: 0.0459 - loss: 0.0656 - val_accuracy: 0.0062 - val_loss: 0.0666\n",
      "Epoch 8/10\n",
      "\u001b[1m118/118\u001b[0m \u001b[32m━━━━━━━━━━━━━━━━━━━━\u001b[0m\u001b[37m\u001b[0m \u001b[1m47s\u001b[0m 397ms/step - accuracy: 0.0225 - loss: 0.0659 - val_accuracy: 0.0062 - val_loss: 0.0664\n",
      "Epoch 9/10\n",
      "\u001b[1m118/118\u001b[0m \u001b[32m━━━━━━━━━━━━━━━━━━━━\u001b[0m\u001b[37m\u001b[0m \u001b[1m47s\u001b[0m 398ms/step - accuracy: 0.0220 - loss: 0.0658 - val_accuracy: 0.0062 - val_loss: 0.0666\n",
      "Epoch 10/10\n",
      "\u001b[1m118/118\u001b[0m \u001b[32m━━━━━━━━━━━━━━━━━━━━\u001b[0m\u001b[37m\u001b[0m \u001b[1m47s\u001b[0m 397ms/step - accuracy: 0.0203 - loss: 0.0677 - val_accuracy: 0.0062 - val_loss: 0.0665\n",
      "51/51 - 6s - 112ms/step - accuracy: 0.0025 - loss: 0.0675\n",
      "Test Loss: 0.06754152476787567, Test Accuracy: 0.0024706609547138214\n"
     ]
    }
   ],
   "source": [
    "from tensorflow.keras.models import Sequential\n",
    "from tensorflow.keras.layers import Embedding, LSTM, Dense\n",
    "\n",
    "model = Sequential([\n",
    "    Embedding(input_dim=len(vocabulary) + 1, output_dim=128, input_length=max_sequence_length),\n",
    "    LSTM(128, return_sequences=False),\n",
    "    Dense(len(all_labels), activation=\"sigmoid\"),\n",
    "])\n",
    "\n",
    "model.compile(optimizer=\"adam\", loss=\"binary_crossentropy\", metrics=[\"accuracy\"])\n",
    "model.summary()\n",
    "\n",
    "history = model.fit(\n",
    "    X_train, y_train,\n",
    "    validation_data=(X_val, y_val),\n",
    "    epochs=10,\n",
    "    batch_size=64\n",
    ")\n",
    "\n",
    "# Evaluate the model\n",
    "test_loss, test_accuracy = model.evaluate(X_test, y_test, verbose=2)\n",
    "print(f\"Test Loss: {test_loss}, Test Accuracy: {test_accuracy}\")"
   ]
  },
  {
   "cell_type": "code",
   "execution_count": 32,
   "id": "da6fdd8f-0d63-4503-a4f3-e125a009398c",
   "metadata": {},
   "outputs": [],
   "source": [
    "### Well the results are awful, but this is a model we can work with. Positive points: loss rates are stable, so model isn't likely diverging, and well, the model ran, which is better than I've been getting lately."
   ]
  },
  {
   "cell_type": "code",
   "execution_count": 33,
   "id": "86e2b598-a8fe-4ac6-b590-dca18b5925fd",
   "metadata": {},
   "outputs": [],
   "source": [
    "### GloVe embedding experiment"
   ]
  },
  {
   "cell_type": "code",
   "execution_count": 39,
   "id": "68e7b384-0d75-4e39-b092-d0d3652eb128",
   "metadata": {
    "scrolled": true
   },
   "outputs": [
    {
     "name": "stdout",
     "output_type": "stream",
     "text": [
      "GloVe file found!\n"
     ]
    }
   ],
   "source": [
    "import os\n",
    "\n",
    "glove_path = \"glove.6B.100d.txt\"\n",
    "if os.path.exists(glove_path):\n",
    "    print(\"GloVe file found!\")\n",
    "else:\n",
    "    print(\"GloVe file not found. Ensure it is in the same directory as your notebook.\")"
   ]
  },
  {
   "cell_type": "code",
   "execution_count": 40,
   "id": "ccf590e7-57fe-4486-b48a-82eaaaa39128",
   "metadata": {},
   "outputs": [
    {
     "name": "stdout",
     "output_type": "stream",
     "text": [
      "Loaded 400000 word vectors from GloVe.\n",
      "Epoch 1/10\n",
      "\u001b[1m118/118\u001b[0m \u001b[32m━━━━━━━━━━━━━━━━━━━━\u001b[0m\u001b[37m\u001b[0m \u001b[1m60s\u001b[0m 470ms/step - accuracy: 0.0626 - loss: 0.3110 - val_accuracy: 0.0062 - val_loss: 0.0672\n",
      "Epoch 2/10\n",
      "\u001b[1m118/118\u001b[0m \u001b[32m━━━━━━━━━━━━━━━━━━━━\u001b[0m\u001b[37m\u001b[0m \u001b[1m47s\u001b[0m 394ms/step - accuracy: 0.1413 - loss: 0.0698 - val_accuracy: 0.0062 - val_loss: 0.0667\n",
      "Epoch 3/10\n",
      "\u001b[1m118/118\u001b[0m \u001b[32m━━━━━━━━━━━━━━━━━━━━\u001b[0m\u001b[37m\u001b[0m \u001b[1m51s\u001b[0m 429ms/step - accuracy: 0.1216 - loss: 0.0699 - val_accuracy: 0.0062 - val_loss: 0.0666\n",
      "Epoch 4/10\n",
      "\u001b[1m118/118\u001b[0m \u001b[32m━━━━━━━━━━━━━━━━━━━━\u001b[0m\u001b[37m\u001b[0m \u001b[1m49s\u001b[0m 413ms/step - accuracy: 0.1096 - loss: 0.0688 - val_accuracy: 0.0062 - val_loss: 0.0665\n",
      "Epoch 5/10\n",
      "\u001b[1m118/118\u001b[0m \u001b[32m━━━━━━━━━━━━━━━━━━━━\u001b[0m\u001b[37m\u001b[0m \u001b[1m43s\u001b[0m 361ms/step - accuracy: 0.1015 - loss: 0.0693 - val_accuracy: 0.3653 - val_loss: 0.0666\n",
      "Epoch 6/10\n",
      "\u001b[1m118/118\u001b[0m \u001b[32m━━━━━━━━━━━━━━━━━━━━\u001b[0m\u001b[37m\u001b[0m \u001b[1m40s\u001b[0m 337ms/step - accuracy: 0.1509 - loss: 0.0676 - val_accuracy: 0.0062 - val_loss: 0.0666\n",
      "Epoch 7/10\n",
      "\u001b[1m118/118\u001b[0m \u001b[32m━━━━━━━━━━━━━━━━━━━━\u001b[0m\u001b[37m\u001b[0m \u001b[1m41s\u001b[0m 352ms/step - accuracy: 0.1143 - loss: 0.0692 - val_accuracy: 0.0062 - val_loss: 0.0666\n",
      "Epoch 8/10\n",
      "\u001b[1m118/118\u001b[0m \u001b[32m━━━━━━━━━━━━━━━━━━━━\u001b[0m\u001b[37m\u001b[0m \u001b[1m83s\u001b[0m 361ms/step - accuracy: 0.0890 - loss: 0.0671 - val_accuracy: 0.0062 - val_loss: 0.0664\n",
      "Epoch 9/10\n",
      "\u001b[1m118/118\u001b[0m \u001b[32m━━━━━━━━━━━━━━━━━━━━\u001b[0m\u001b[37m\u001b[0m \u001b[1m41s\u001b[0m 350ms/step - accuracy: 0.0815 - loss: 0.0669 - val_accuracy: 0.0062 - val_loss: 0.0665\n",
      "Epoch 10/10\n",
      "\u001b[1m118/118\u001b[0m \u001b[32m━━━━━━━━━━━━━━━━━━━━\u001b[0m\u001b[37m\u001b[0m \u001b[1m41s\u001b[0m 346ms/step - accuracy: 0.0786 - loss: 0.0672 - val_accuracy: 0.0062 - val_loss: 0.0664\n",
      "51/51 - 8s - 148ms/step - accuracy: 0.0025 - loss: 0.0674\n",
      "Test Loss: 0.06737762689590454, Test Accuracy: 0.0024706609547138214\n"
     ]
    }
   ],
   "source": [
    "import os\n",
    "import numpy as np\n",
    "from tensorflow.keras.layers import Embedding\n",
    "from tensorflow.keras.initializers import Constant\n",
    "\n",
    "# Specify the path to your GloVe file\n",
    "glove_path = \"glove.6B.100d.txt\"  \n",
    "\n",
    "# Load the GloVe embeddings\n",
    "def load_glove_embeddings(glove_path, embedding_dim, vocabulary):\n",
    "    embeddings_index = {}\n",
    "    with open(glove_path, \"r\", encoding=\"utf-8\") as file:\n",
    "        for line in file:\n",
    "            values = line.split()\n",
    "            word = values[0]\n",
    "            coefs = np.asarray(values[1:], dtype=\"float32\")\n",
    "            embeddings_index[word] = coefs\n",
    "    \n",
    "    print(f\"Loaded {len(embeddings_index)} word vectors from GloVe.\")\n",
    "    \n",
    "    # Create embedding matrix\n",
    "    embedding_matrix = np.zeros((len(vocabulary) + 1, embedding_dim))\n",
    "    for word, idx in vocabulary.items():\n",
    "        embedding_vector = embeddings_index.get(word)\n",
    "        if embedding_vector is not None:\n",
    "            embedding_matrix[idx] = embedding_vector\n",
    "    return embedding_matrix\n",
    "\n",
    "# Adjust dimensions if you're using a different GloVe file\n",
    "embedding_dim = 100  # Change to 50, 200, or 300 if using a different GloVe file\n",
    "\n",
    "# Load the embedding matrix\n",
    "embedding_matrix = load_glove_embeddings(glove_path, embedding_dim, vocabulary)\n",
    "\n",
    "# Create an embedding layer with pre-trained GloVe weights\n",
    "embedding_layer = Embedding(\n",
    "    input_dim=len(vocabulary) + 1,  # Vocabulary size\n",
    "    output_dim=embedding_dim,      # Embedding dimensions\n",
    "    embeddings_initializer=Constant(embedding_matrix),\n",
    "    input_length=max_sequence_length,\n",
    "    trainable=False  # Freeze the embeddings for now\n",
    ")\n",
    "\n",
    "# Update the Model with GloVe embeddings\n",
    "from tensorflow.keras.models import Sequential\n",
    "from tensorflow.keras.layers import LSTM, Dense, Dropout\n",
    "\n",
    "model = Sequential([\n",
    "    embedding_layer,  # Use the GloVe embedding layer\n",
    "    LSTM(128, return_sequences=False),\n",
    "    Dropout(0.2),\n",
    "    Dense(y_train.shape[1], activation=\"sigmoid\")  # Multi-label classification\n",
    "])\n",
    "\n",
    "# Compile the Model\n",
    "model.compile(\n",
    "    optimizer=\"adam\",\n",
    "    loss=\"binary_crossentropy\",\n",
    "    metrics=[\"accuracy\"]\n",
    ")\n",
    "\n",
    "# Train the Model\n",
    "history = model.fit(\n",
    "    X_train, y_train,\n",
    "    validation_data=(X_val, y_val),\n",
    "    epochs=10,\n",
    "    batch_size=64\n",
    ")\n",
    "\n",
    "# Evaluate the Model\n",
    "test_loss, test_accuracy = model.evaluate(X_test, y_test, verbose=2)\n",
    "print(f\"Test Loss: {test_loss}, Test Accuracy: {test_accuracy}\")"
   ]
  },
  {
   "cell_type": "code",
   "execution_count": 41,
   "id": "9939c787-39b0-426d-b38f-a91000a4c6fb",
   "metadata": {},
   "outputs": [],
   "source": [
    "### Accuracy is still low, so time to play with regularization, dropout, etc. Possibly problem with label imbalance?"
   ]
  },
  {
   "cell_type": "code",
   "execution_count": 42,
   "id": "edd8491f-1d6f-4ce0-981c-97da5b1f21d9",
   "metadata": {},
   "outputs": [
    {
     "name": "stdout",
     "output_type": "stream",
     "text": [
      "Label Frequency Distribution:\n",
      "grain: 531\n",
      "money-fx: 408\n",
      "wheat: 283\n",
      "corn: 237\n",
      "interest: 206\n",
      "crude: 204\n",
      "dlr: 169\n",
      "oilseed: 162\n",
      "trade: 159\n",
      "ship: 142\n",
      "soybean: 111\n",
      "veg-oil: 94\n",
      "livestock: 77\n",
      "acq: 77\n",
      "bop: 74\n",
      "nat-gas: 69\n",
      "gnp: 62\n",
      "rice: 58\n",
      "carcass: 57\n",
      "yen: 53\n",
      "barley: 51\n",
      "earn: 41\n",
      "palm-oil: 40\n",
      "sugar: 40\n",
      "meal-feed: 38\n",
      "gas: 36\n",
      "cotton: 35\n",
      "gold: 34\n",
      "sorghum: 34\n",
      "rapeseed: 27\n",
      "coffee: 27\n",
      "cpi: 26\n",
      "soy-meal: 26\n",
      "soy-oil: 25\n",
      "silver: 25\n",
      "reserves: 24\n",
      "money-supply: 23\n",
      "zinc: 21\n",
      "lead: 21\n",
      "hog: 21\n",
      "copper: 21\n",
      "jobs: 18\n",
      "sunseed: 16\n",
      "iron-steel: 16\n",
      "oat: 14\n",
      "pet-chem: 13\n",
      "dmk: 13\n",
      "strategic-metal: 12\n",
      "fuel: 12\n",
      "cocoa: 12\n",
      "rubber: 9\n",
      "platinum: 9\n",
      "heat: 9\n",
      "tea: 8\n",
      "alum: 8\n",
      "rape-oil: 8\n",
      "ipi: 8\n",
      "groundnut: 7\n",
      "l-cattle: 7\n",
      "coconut-oil: 7\n",
      "sun-oil: 7\n",
      "wpi: 6\n",
      "nickel: 5\n",
      "retail: 5\n",
      "propane: 5\n",
      "coconut: 5\n",
      "orange: 5\n",
      "income: 5\n",
      "naphtha: 5\n",
      "nkr: 3\n",
      "tin: 3\n",
      "palmkernel: 3\n",
      "copra-cake: 3\n",
      "nzdlr: 3\n",
      "palladium: 3\n",
      "cotton-oil: 3\n",
      "housing: 3\n",
      "dfl: 3\n",
      "lumber: 2\n",
      "sun-meal: 2\n",
      "lin-oil: 2\n",
      "rye: 2\n",
      "castor-oil: 2\n",
      "groundnut-oil: 2\n",
      "jet: 2\n",
      "rand: 2\n",
      "lei: 1\n",
      "potato: 1\n"
     ]
    },
    {
     "data": {
      "image/png": "[encoded data removed]",
      "text/plain": [
       "<Figure size 1200x600 with 1 Axes>"
      ]
     },
     "metadata": {},
     "output_type": "display_data"
    }
   ],
   "source": [
    "import numpy as np\n",
    "import matplotlib.pyplot as plt\n",
    "\n",
    "# Load the one-hot encoded labels\n",
    "y = np.load(\"y.npy\", allow_pickle=True)\n",
    "\n",
    "# Count occurrences of each label\n",
    "label_sums = y.sum(axis=0)\n",
    "\n",
    "# Sort labels by frequency\n",
    "sorted_indices = np.argsort(label_sums)[::-1]\n",
    "sorted_label_sums = label_sums[sorted_indices]\n",
    "sorted_labels = [class_labels[i] for i in sorted_indices]\n",
    "\n",
    "# Display the counts\n",
    "print(\"Label Frequency Distribution:\")\n",
    "for label, count in zip(sorted_labels, sorted_label_sums):\n",
    "    print(f\"{label}: {int(count)}\")\n",
    "\n",
    "# Plot the label frequency distribution\n",
    "plt.figure(figsize=(12, 6))\n",
    "plt.bar(sorted_labels[:20], sorted_label_sums[:20])  # Show the top 20 labels for clarity\n",
    "plt.xticks(rotation=45, ha='right')\n",
    "plt.title(\"Top 20 Labels Frequency Distribution\")\n",
    "plt.ylabel(\"Frequency\")\n",
    "plt.xlabel(\"Labels\")\n",
    "plt.tight_layout()\n",
    "plt.show()"
   ]
  },
  {
   "cell_type": "code",
   "execution_count": 43,
   "id": "ed69e5da-c47d-4154-afa9-aabea94ba2f1",
   "metadata": {},
   "outputs": [],
   "source": [
    "### Okay, there is definitely a long-tail imbalance for the labels. Where do we go from here? oversample the rare lables? Weighted loss?"
   ]
  },
  {
   "cell_type": "code",
   "execution_count": 44,
   "id": "d5202d17-93dc-4db2-b44c-da130497de79",
   "metadata": {},
   "outputs": [
    {
     "name": "stdout",
     "output_type": "stream",
     "text": [
      "Training samples after resampling: 8441\n",
      "Class weights: {0: 0.9353945035460993, 1: 2.244946808510638, 2: 1.0204303675048356, 3: 22.449468085106382, 4: 3.4537643207855973, 5: 6.414133738601824, 6: 2.244946808510638, 7: 1.8707890070921986, 8: 4.0817214700193425, 9: 8.979787234042552, 10: 1.8707890070921986, 11: 4.489893617021276, 12: 2.244946808510638, 13: 11.224734042553191, 14: inf, 15: 0.3620881949210707, 16: 14.96631205673759, 17: 2.993262411347518, 18: 0.7946714366409339, 19: 0.43803840166061236, 20: 0.05512453796220106, 21: 8.979787234042552, 22: 22.449468085106382, 23: 1.662923561859732, 24: 1.7268821603927986, 25: 0.9163048198002606, 26: 0.7126815265113138, 27: 1.0204303675048356, 28: 1.0690222897669706, 29: 22.449468085106382, 30: 11.224734042553191, 31: 0.15617021276595744, 32: 0.2878136933987998, 33: 0.9163048198002606, 34: 1.301418439716312, 35: 3.207066869300912, 36: 14.96631205673759, 37: 1.2134847613571018, 38: 6.414133738601824, 39: 1.0690222897669706, 40: 14.96631205673759, 41: 0.13362778622087132, 42: 2.138044579533941, 43: 2.244946808510638, 44: 3.7415780141843973, 45: 6.414133738601824, 46: 0.17369027531997203, 47: 0.831461780929866, 48: 6.414133738601824, 49: 0.24943853427895982, 50: 1.8707890070921986, 51: 0.03208212659536461, 52: 8.979787234042552, 53: 0.6751719724844025, 54: 5.6123670212765955, 55: 1.1815509518477043, 56: 0.058310306714562034, 57: 3.7415780141843973, 58: 0.9353945035460993, 59: 2.3631019036954086, 60: 0.05373900199905777, 61: inf, 62: 1.2134847613571018, 63: 44.898936170212764, 64: 44.898936170212764, 65: 1.095096004151531, 66: 2.244946808510638, 67: 0.4138150799097951, 68: 2.641113892365457, 69: 0.632379382679053, 70: 1.301418439716312, 71: 22.449468085106382, 72: 1.0690222897669706, 73: 3.207066869300912, 74: 22.449468085106382, 75: 7.483156028368795, 76: 2.244946808510638, 77: 0.7126815265113138, 78: 2.641113892365457, 79: 1.496631205673759, 80: 22.449468085106382, 81: 8.979787234042552, 82: 3.7415780141843973, 83: 0.024730892960734104, 84: 0.9977541371158393, 85: 7.483156028368795, 86: 0.9163048198002606, 87: 2.494385342789598, 88: 0.5683409641799084, 89: 0.19735796118774843, 90: 22.449468085106382, 91: 14.96631205673759, 92: 0.8890878449547083, 93: 0.46050190943807967}\n"
     ]
    },
    {
     "name": "stderr",
     "output_type": "stream",
     "text": [
      "/var/folders/yh/l_t10td97zbcx6stbhn0_w_00000gn/T/ipykernel_22439/1193131174.py:40: RuntimeWarning: divide by zero encountered in divide\n",
      "  class_weights = total_samples / (len(label_sums) * label_sums)\n",
      "/opt/anaconda3/lib/python3.12/site-packages/keras/src/layers/core/embedding.py:90: UserWarning: Argument `input_length` is deprecated. Just remove it.\n",
      "  warnings.warn(\n"
     ]
    },
    {
     "data": {
      "text/html": [
       "<pre style=\"white-space:pre;overflow-x:auto;line-height:normal;font-family:Menlo,'DejaVu Sans Mono',consolas,'Courier New',monospace\"><span style=\"font-weight: bold\">Model: \"sequential_2\"</span>\n",
       "</pre>\n"
      ],
      "text/plain": [
       "\u001b[1mModel: \"sequential_2\"\u001b[0m\n"
      ]
     },
     "metadata": {},
     "output_type": "display_data"
    },
    {
     "data": {
      "text/html": [
       "<pre style=\"white-space:pre;overflow-x:auto;line-height:normal;font-family:Menlo,'DejaVu Sans Mono',consolas,'Courier New',monospace\">┏━━━━━━━━━━━━━━━━━━━━━━━━━━━━━━━━━┳━━━━━━━━━━━━━━━━━━━━━━━━┳━━━━━━━━━━━━━━━┓\n",
       "┃<span style=\"font-weight: bold\"> Layer (type)                    </span>┃<span style=\"font-weight: bold\"> Output Shape           </span>┃<span style=\"font-weight: bold\">       Param # </span>┃\n",
       "┡━━━━━━━━━━━━━━━━━━━━━━━━━━━━━━━━━╇━━━━━━━━━━━━━━━━━━━━━━━━╇━━━━━━━━━━━━━━━┩\n",
       "│ embedding_2 (<span style=\"color: #0087ff; text-decoration-color: #0087ff\">Embedding</span>)         │ ?                      │   <span style=\"color: #00af00; text-decoration-color: #00af00\">0</span> (unbuilt) │\n",
       "├─────────────────────────────────┼────────────────────────┼───────────────┤\n",
       "│ lstm_2 (<span style=\"color: #0087ff; text-decoration-color: #0087ff\">LSTM</span>)                   │ ?                      │   <span style=\"color: #00af00; text-decoration-color: #00af00\">0</span> (unbuilt) │\n",
       "├─────────────────────────────────┼────────────────────────┼───────────────┤\n",
       "│ dense_2 (<span style=\"color: #0087ff; text-decoration-color: #0087ff\">Dense</span>)                 │ ?                      │   <span style=\"color: #00af00; text-decoration-color: #00af00\">0</span> (unbuilt) │\n",
       "└─────────────────────────────────┴────────────────────────┴───────────────┘\n",
       "</pre>\n"
      ],
      "text/plain": [
       "┏━━━━━━━━━━━━━━━━━━━━━━━━━━━━━━━━━┳━━━━━━━━━━━━━━━━━━━━━━━━┳━━━━━━━━━━━━━━━┓\n",
       "┃\u001b[1m \u001b[0m\u001b[1mLayer (type)                   \u001b[0m\u001b[1m \u001b[0m┃\u001b[1m \u001b[0m\u001b[1mOutput Shape          \u001b[0m\u001b[1m \u001b[0m┃\u001b[1m \u001b[0m\u001b[1m      Param #\u001b[0m\u001b[1m \u001b[0m┃\n",
       "┡━━━━━━━━━━━━━━━━━━━━━━━━━━━━━━━━━╇━━━━━━━━━━━━━━━━━━━━━━━━╇━━━━━━━━━━━━━━━┩\n",
       "│ embedding_2 (\u001b[38;5;33mEmbedding\u001b[0m)         │ ?                      │   \u001b[38;5;34m0\u001b[0m (unbuilt) │\n",
       "├─────────────────────────────────┼────────────────────────┼───────────────┤\n",
       "│ lstm_2 (\u001b[38;5;33mLSTM\u001b[0m)                   │ ?                      │   \u001b[38;5;34m0\u001b[0m (unbuilt) │\n",
       "├─────────────────────────────────┼────────────────────────┼───────────────┤\n",
       "│ dense_2 (\u001b[38;5;33mDense\u001b[0m)                 │ ?                      │   \u001b[38;5;34m0\u001b[0m (unbuilt) │\n",
       "└─────────────────────────────────┴────────────────────────┴───────────────┘\n"
      ]
     },
     "metadata": {},
     "output_type": "display_data"
    },
    {
     "data": {
      "text/html": [
       "<pre style=\"white-space:pre;overflow-x:auto;line-height:normal;font-family:Menlo,'DejaVu Sans Mono',consolas,'Courier New',monospace\"><span style=\"font-weight: bold\"> Total params: </span><span style=\"color: #00af00; text-decoration-color: #00af00\">0</span> (0.00 B)\n",
       "</pre>\n"
      ],
      "text/plain": [
       "\u001b[1m Total params: \u001b[0m\u001b[38;5;34m0\u001b[0m (0.00 B)\n"
      ]
     },
     "metadata": {},
     "output_type": "display_data"
    },
    {
     "data": {
      "text/html": [
       "<pre style=\"white-space:pre;overflow-x:auto;line-height:normal;font-family:Menlo,'DejaVu Sans Mono',consolas,'Courier New',monospace\"><span style=\"font-weight: bold\"> Trainable params: </span><span style=\"color: #00af00; text-decoration-color: #00af00\">0</span> (0.00 B)\n",
       "</pre>\n"
      ],
      "text/plain": [
       "\u001b[1m Trainable params: \u001b[0m\u001b[38;5;34m0\u001b[0m (0.00 B)\n"
      ]
     },
     "metadata": {},
     "output_type": "display_data"
    },
    {
     "data": {
      "text/html": [
       "<pre style=\"white-space:pre;overflow-x:auto;line-height:normal;font-family:Menlo,'DejaVu Sans Mono',consolas,'Courier New',monospace\"><span style=\"font-weight: bold\"> Non-trainable params: </span><span style=\"color: #00af00; text-decoration-color: #00af00\">0</span> (0.00 B)\n",
       "</pre>\n"
      ],
      "text/plain": [
       "\u001b[1m Non-trainable params: \u001b[0m\u001b[38;5;34m0\u001b[0m (0.00 B)\n"
      ]
     },
     "metadata": {},
     "output_type": "display_data"
    },
    {
     "name": "stdout",
     "output_type": "stream",
     "text": [
      "Epoch 1/10\n",
      "\u001b[1m132/132\u001b[0m \u001b[32m━━━━━━━━━━━━━━━━━━━━\u001b[0m\u001b[37m\u001b[0m \u001b[1m55s\u001b[0m 398ms/step - accuracy: 0.0097 - loss: nan - val_accuracy: 6.1805e-04 - val_loss: nan\n",
      "Epoch 2/10\n",
      "\u001b[1m132/132\u001b[0m \u001b[32m━━━━━━━━━━━━━━━━━━━━\u001b[0m\u001b[37m\u001b[0m \u001b[1m47s\u001b[0m 354ms/step - accuracy: 0.0111 - loss: nan - val_accuracy: 6.1805e-04 - val_loss: nan\n",
      "Epoch 3/10\n",
      "\u001b[1m132/132\u001b[0m \u001b[32m━━━━━━━━━━━━━━━━━━━━\u001b[0m\u001b[37m\u001b[0m \u001b[1m50s\u001b[0m 381ms/step - accuracy: 0.0110 - loss: nan - val_accuracy: 6.1805e-04 - val_loss: nan\n",
      "Epoch 4/10\n",
      "\u001b[1m132/132\u001b[0m \u001b[32m━━━━━━━━━━━━━━━━━━━━\u001b[0m\u001b[37m\u001b[0m \u001b[1m50s\u001b[0m 379ms/step - accuracy: 0.0107 - loss: nan - val_accuracy: 6.1805e-04 - val_loss: nan\n",
      "Epoch 5/10\n",
      "\u001b[1m132/132\u001b[0m \u001b[32m━━━━━━━━━━━━━━━━━━━━\u001b[0m\u001b[37m\u001b[0m \u001b[1m46s\u001b[0m 348ms/step - accuracy: 0.0092 - loss: nan - val_accuracy: 6.1805e-04 - val_loss: nan\n",
      "Epoch 6/10\n",
      "\u001b[1m132/132\u001b[0m \u001b[32m━━━━━━━━━━━━━━━━━━━━\u001b[0m\u001b[37m\u001b[0m \u001b[1m50s\u001b[0m 378ms/step - accuracy: 0.0109 - loss: nan - val_accuracy: 6.1805e-04 - val_loss: nan\n",
      "Epoch 7/10\n",
      "\u001b[1m132/132\u001b[0m \u001b[32m━━━━━━━━━━━━━━━━━━━━\u001b[0m\u001b[37m\u001b[0m \u001b[1m52s\u001b[0m 395ms/step - accuracy: 0.0125 - loss: nan - val_accuracy: 6.1805e-04 - val_loss: nan\n",
      "Epoch 8/10\n",
      "\u001b[1m132/132\u001b[0m \u001b[32m━━━━━━━━━━━━━━━━━━━━\u001b[0m\u001b[37m\u001b[0m \u001b[1m60s\u001b[0m 453ms/step - accuracy: 0.0137 - loss: nan - val_accuracy: 6.1805e-04 - val_loss: nan\n",
      "Epoch 9/10\n",
      "\u001b[1m132/132\u001b[0m \u001b[32m━━━━━━━━━━━━━━━━━━━━\u001b[0m\u001b[37m\u001b[0m \u001b[1m50s\u001b[0m 380ms/step - accuracy: 0.0096 - loss: nan - val_accuracy: 6.1805e-04 - val_loss: nan\n",
      "Epoch 10/10\n",
      "\u001b[1m132/132\u001b[0m \u001b[32m━━━━━━━━━━━━━━━━━━━━\u001b[0m\u001b[37m\u001b[0m \u001b[1m49s\u001b[0m 368ms/step - accuracy: 0.0118 - loss: nan - val_accuracy: 6.1805e-04 - val_loss: nan\n",
      "51/51 - 5s - 97ms/step - accuracy: 0.0031 - loss: nan\n",
      "Test Loss: nan, Test Accuracy: 0.0030883261933922768\n"
     ]
    }
   ],
   "source": [
    "from tensorflow.keras.utils import to_categorical\n",
    "from tensorflow.keras import backend as K\n",
    "\n",
    "# Step 1: Resampling\n",
    "def resample_data(X, y, label_threshold=50):\n",
    "    \"\"\"\n",
    "    Oversample rare labels in the dataset.\n",
    "    :param X: Input features\n",
    "    :param y: One-hot encoded labels\n",
    "    :param label_threshold: Minimum occurrences to consider a label 'rare'\n",
    "    :return: Resampled X and y\n",
    "    \"\"\"\n",
    "    # Identify rare labels\n",
    "    label_counts = np.sum(y, axis=0)\n",
    "    rare_labels = np.where(label_counts < label_threshold)[0]\n",
    "\n",
    "    # Oversample data for rare labels\n",
    "    X_resampled, y_resampled = list(X), list(y)\n",
    "    for i, (sample, labels) in enumerate(zip(X, y)):\n",
    "        if any(labels[rare_labels]):\n",
    "            # Duplicate samples with rare labels\n",
    "            X_resampled.append(sample)\n",
    "            y_resampled.append(labels)\n",
    "    \n",
    "    return np.array(X_resampled), np.array(y_resampled)\n",
    "\n",
    "# Apply resampling\n",
    "X_train_resampled, y_train_resampled = resample_data(X_train, y_train, label_threshold=50)\n",
    "print(f\"Training samples after resampling: {len(X_train_resampled)}\")\n",
    "\n",
    "# Step 2: Weighted Loss Function for Multi-Label\n",
    "def compute_multi_label_weights(y):\n",
    "    \"\"\"\n",
    "    Compute class weights for multi-label data.\n",
    "    :param y: One-hot encoded labels\n",
    "    :return: Dictionary of class weights\n",
    "    \"\"\"\n",
    "    label_sums = np.sum(y, axis=0)  # Total occurrences per label\n",
    "    total_samples = y.shape[0]\n",
    "    class_weights = total_samples / (len(label_sums) * label_sums)\n",
    "    return {i: weight for i, weight in enumerate(class_weights)}\n",
    "\n",
    "# Calculate weights for multi-label data\n",
    "class_weights = compute_multi_label_weights(y_train_resampled)\n",
    "print(f\"Class weights: {class_weights}\")\n",
    "\n",
    "# Custom weighted loss function\n",
    "def weighted_binary_crossentropy(weights):\n",
    "    \"\"\"\n",
    "    Weighted binary crossentropy loss for multi-label classification.\n",
    "    :param weights: Dictionary of class weights\n",
    "    :return: Weighted loss function\n",
    "    \"\"\"\n",
    "    def loss_fn(y_true, y_pred):\n",
    "        binary_crossentropy = K.binary_crossentropy(y_true, y_pred)\n",
    "        weight_vector = K.constant([weights[i] for i in range(len(weights))])\n",
    "        weighted_loss = binary_crossentropy * weight_vector\n",
    "        return K.mean(weighted_loss, axis=-1)\n",
    "    return loss_fn\n",
    "\n",
    "# Define the weighted loss\n",
    "weighted_loss = weighted_binary_crossentropy(class_weights)\n",
    "\n",
    "# Step 3: Rebuild the Model\n",
    "from tensorflow.keras.models import Sequential\n",
    "from tensorflow.keras.layers import Embedding, LSTM, Dense\n",
    "\n",
    "# Parameters\n",
    "embedding_dim = 100  # Match GloVe embeddings\n",
    "max_sequence_length = 500  # Match preprocessing\n",
    "num_classes = y_train.shape[1]  # Number of labels\n",
    "\n",
    "# Create the model\n",
    "model = Sequential([\n",
    "    Embedding(input_dim=len(vocabulary) + 1, output_dim=embedding_dim, input_length=max_sequence_length, trainable=True),\n",
    "    LSTM(128, return_sequences=False),\n",
    "    Dense(num_classes, activation=\"sigmoid\")\n",
    "])\n",
    "\n",
    "model.compile(optimizer=\"adam\", loss=weighted_loss, metrics=[\"accuracy\"])\n",
    "model.summary()\n",
    "\n",
    "# Step 4: Train the Model\n",
    "history = model.fit(\n",
    "    np.array(X_train_resampled), np.array(y_train_resampled),\n",
    "    validation_data=(np.array(X_val), np.array(y_val)),\n",
    "    epochs=10,  \n",
    "    batch_size=64\n",
    ")\n",
    "\n",
    "# Evaluate the model\n",
    "test_loss, test_accuracy = model.evaluate(np.array(X_test), np.array(y_test), verbose=2)\n",
    "print(f\"Test Loss: {test_loss}, Test Accuracy: {test_accuracy}\")"
   ]
  },
  {
   "cell_type": "code",
   "execution_count": null,
   "id": "a20224a8-3caf-4d44-bb28-b561eba11879",
   "metadata": {},
   "outputs": [],
   "source": []
  }
 ],
 "metadata": {
  "kernelspec": {
   "display_name": "base",
   "language": "python",
   "name": "python3"
  },
  "language_info": {
   "codemirror_mode": {
    "name": "ipython",
    "version": 3
   },
   "file_extension": ".py",
   "mimetype": "text/x-python",
   "name": "python",
   "nbconvert_exporter": "python",
   "pygments_lexer": "ipython3",
   "version": "3.12.4"
  }
 },
 "nbformat": 4,
 "nbformat_minor": 5
}
